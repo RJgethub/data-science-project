{
 "cells": [
  {
   "cell_type": "markdown",
   "id": "4b6f21e8",
   "metadata": {},
   "source": [
    "# Avacado Project"
   ]
  },
  {
   "cell_type": "markdown",
   "id": "8fe7c1f4",
   "metadata": {},
   "source": [
    "**Problem Statement:**\n",
    "\n",
    "Avocado is a fruit consumed by people heavily in the United States.\n",
    "\n",
    "Content -\n",
    "\n",
    "This data was downloaded from the Hass Avocado Board website in May of 2018 & compiled into a single CSV. The table below represents weekly 2018 retail scan data for National retail volume (units) and price. Retail scan data comes directly from retailers’ cash registers based on actual retail sales of Hass avocados. Starting in 2013, the table below reflects an expanded, multi-outlet retail data set. Multi-outlet reporting includes an aggregation of the following channels: grocery, mass, club, drug, dollar and military. The Average Price (of avocados) in the table reflects a per unit (per avocado) cost, even when multiple units (avocados) are sold in bags. The Product Lookup codes (PLU’s) in the table are only for Hass avocados. Other varieties of avocados (e.g. greenskins) are not included in this table."
   ]
  },
  {
   "cell_type": "markdown",
   "id": "e39efd68",
   "metadata": {},
   "source": [
    "**Inspiration/Label:**\n",
    "\n",
    "Task here is to make a mode that can consider the data provided and predict the Average Price."
   ]
  },
  {
   "cell_type": "code",
   "execution_count": 1,
   "id": "8bbcb575",
   "metadata": {},
   "outputs": [],
   "source": [
    "import pandas as pd\n",
    "import numpy as np\n",
    "import matplotlib.pyplot as plt\n",
    "import seaborn as sns\n",
    "\n",
    "from sklearn.preprocessing import StandardScaler\n",
    "\n",
    "from sklearn.model_selection import train_test_split, GridSearchCV\n",
    "from sklearn.metrics import mean_absolute_error\n",
    "from sklearn.metrics import mean_squared_error\n",
    "from sklearn.metrics import r2_score\n",
    "\n",
    "import datetime\n",
    "\n",
    "\n",
    "import warnings\n",
    "warnings.filterwarnings('ignore')\n",
    "%matplotlib inline"
   ]
  },
  {
   "cell_type": "code",
   "execution_count": 2,
   "id": "ddb9ed23",
   "metadata": {},
   "outputs": [
    {
     "data": {
      "text/html": [
       "<div>\n",
       "<style scoped>\n",
       "    .dataframe tbody tr th:only-of-type {\n",
       "        vertical-align: middle;\n",
       "    }\n",
       "\n",
       "    .dataframe tbody tr th {\n",
       "        vertical-align: top;\n",
       "    }\n",
       "\n",
       "    .dataframe thead th {\n",
       "        text-align: right;\n",
       "    }\n",
       "</style>\n",
       "<table border=\"1\" class=\"dataframe\">\n",
       "  <thead>\n",
       "    <tr style=\"text-align: right;\">\n",
       "      <th></th>\n",
       "      <th>Unnamed: 0</th>\n",
       "      <th>Date</th>\n",
       "      <th>AveragePrice</th>\n",
       "      <th>Total Volume</th>\n",
       "      <th>4046</th>\n",
       "      <th>4225</th>\n",
       "      <th>4770</th>\n",
       "      <th>Total Bags</th>\n",
       "      <th>Small Bags</th>\n",
       "      <th>Large Bags</th>\n",
       "      <th>XLarge Bags</th>\n",
       "      <th>type</th>\n",
       "      <th>year</th>\n",
       "      <th>region</th>\n",
       "    </tr>\n",
       "  </thead>\n",
       "  <tbody>\n",
       "    <tr>\n",
       "      <th>0</th>\n",
       "      <td>0</td>\n",
       "      <td>2015-12-27</td>\n",
       "      <td>1.33</td>\n",
       "      <td>64236.62</td>\n",
       "      <td>1036.74</td>\n",
       "      <td>54454.85</td>\n",
       "      <td>48.16</td>\n",
       "      <td>8696.87</td>\n",
       "      <td>8603.62</td>\n",
       "      <td>93.25</td>\n",
       "      <td>0.0</td>\n",
       "      <td>conventional</td>\n",
       "      <td>2015</td>\n",
       "      <td>Albany</td>\n",
       "    </tr>\n",
       "    <tr>\n",
       "      <th>1</th>\n",
       "      <td>1</td>\n",
       "      <td>2015-12-20</td>\n",
       "      <td>1.35</td>\n",
       "      <td>54876.98</td>\n",
       "      <td>674.28</td>\n",
       "      <td>44638.81</td>\n",
       "      <td>58.33</td>\n",
       "      <td>9505.56</td>\n",
       "      <td>9408.07</td>\n",
       "      <td>97.49</td>\n",
       "      <td>0.0</td>\n",
       "      <td>conventional</td>\n",
       "      <td>2015</td>\n",
       "      <td>Albany</td>\n",
       "    </tr>\n",
       "    <tr>\n",
       "      <th>2</th>\n",
       "      <td>2</td>\n",
       "      <td>2015-12-13</td>\n",
       "      <td>0.93</td>\n",
       "      <td>118220.22</td>\n",
       "      <td>794.70</td>\n",
       "      <td>109149.67</td>\n",
       "      <td>130.50</td>\n",
       "      <td>8145.35</td>\n",
       "      <td>8042.21</td>\n",
       "      <td>103.14</td>\n",
       "      <td>0.0</td>\n",
       "      <td>conventional</td>\n",
       "      <td>2015</td>\n",
       "      <td>Albany</td>\n",
       "    </tr>\n",
       "    <tr>\n",
       "      <th>3</th>\n",
       "      <td>3</td>\n",
       "      <td>2015-12-06</td>\n",
       "      <td>1.08</td>\n",
       "      <td>78992.15</td>\n",
       "      <td>1132.00</td>\n",
       "      <td>71976.41</td>\n",
       "      <td>72.58</td>\n",
       "      <td>5811.16</td>\n",
       "      <td>5677.40</td>\n",
       "      <td>133.76</td>\n",
       "      <td>0.0</td>\n",
       "      <td>conventional</td>\n",
       "      <td>2015</td>\n",
       "      <td>Albany</td>\n",
       "    </tr>\n",
       "    <tr>\n",
       "      <th>4</th>\n",
       "      <td>4</td>\n",
       "      <td>2015-11-29</td>\n",
       "      <td>1.28</td>\n",
       "      <td>51039.60</td>\n",
       "      <td>941.48</td>\n",
       "      <td>43838.39</td>\n",
       "      <td>75.78</td>\n",
       "      <td>6183.95</td>\n",
       "      <td>5986.26</td>\n",
       "      <td>197.69</td>\n",
       "      <td>0.0</td>\n",
       "      <td>conventional</td>\n",
       "      <td>2015</td>\n",
       "      <td>Albany</td>\n",
       "    </tr>\n",
       "    <tr>\n",
       "      <th>...</th>\n",
       "      <td>...</td>\n",
       "      <td>...</td>\n",
       "      <td>...</td>\n",
       "      <td>...</td>\n",
       "      <td>...</td>\n",
       "      <td>...</td>\n",
       "      <td>...</td>\n",
       "      <td>...</td>\n",
       "      <td>...</td>\n",
       "      <td>...</td>\n",
       "      <td>...</td>\n",
       "      <td>...</td>\n",
       "      <td>...</td>\n",
       "      <td>...</td>\n",
       "    </tr>\n",
       "    <tr>\n",
       "      <th>18244</th>\n",
       "      <td>7</td>\n",
       "      <td>2018-02-04</td>\n",
       "      <td>1.63</td>\n",
       "      <td>17074.83</td>\n",
       "      <td>2046.96</td>\n",
       "      <td>1529.20</td>\n",
       "      <td>0.00</td>\n",
       "      <td>13498.67</td>\n",
       "      <td>13066.82</td>\n",
       "      <td>431.85</td>\n",
       "      <td>0.0</td>\n",
       "      <td>organic</td>\n",
       "      <td>2018</td>\n",
       "      <td>WestTexNewMexico</td>\n",
       "    </tr>\n",
       "    <tr>\n",
       "      <th>18245</th>\n",
       "      <td>8</td>\n",
       "      <td>2018-01-28</td>\n",
       "      <td>1.71</td>\n",
       "      <td>13888.04</td>\n",
       "      <td>1191.70</td>\n",
       "      <td>3431.50</td>\n",
       "      <td>0.00</td>\n",
       "      <td>9264.84</td>\n",
       "      <td>8940.04</td>\n",
       "      <td>324.80</td>\n",
       "      <td>0.0</td>\n",
       "      <td>organic</td>\n",
       "      <td>2018</td>\n",
       "      <td>WestTexNewMexico</td>\n",
       "    </tr>\n",
       "    <tr>\n",
       "      <th>18246</th>\n",
       "      <td>9</td>\n",
       "      <td>2018-01-21</td>\n",
       "      <td>1.87</td>\n",
       "      <td>13766.76</td>\n",
       "      <td>1191.92</td>\n",
       "      <td>2452.79</td>\n",
       "      <td>727.94</td>\n",
       "      <td>9394.11</td>\n",
       "      <td>9351.80</td>\n",
       "      <td>42.31</td>\n",
       "      <td>0.0</td>\n",
       "      <td>organic</td>\n",
       "      <td>2018</td>\n",
       "      <td>WestTexNewMexico</td>\n",
       "    </tr>\n",
       "    <tr>\n",
       "      <th>18247</th>\n",
       "      <td>10</td>\n",
       "      <td>2018-01-14</td>\n",
       "      <td>1.93</td>\n",
       "      <td>16205.22</td>\n",
       "      <td>1527.63</td>\n",
       "      <td>2981.04</td>\n",
       "      <td>727.01</td>\n",
       "      <td>10969.54</td>\n",
       "      <td>10919.54</td>\n",
       "      <td>50.00</td>\n",
       "      <td>0.0</td>\n",
       "      <td>organic</td>\n",
       "      <td>2018</td>\n",
       "      <td>WestTexNewMexico</td>\n",
       "    </tr>\n",
       "    <tr>\n",
       "      <th>18248</th>\n",
       "      <td>11</td>\n",
       "      <td>2018-01-07</td>\n",
       "      <td>1.62</td>\n",
       "      <td>17489.58</td>\n",
       "      <td>2894.77</td>\n",
       "      <td>2356.13</td>\n",
       "      <td>224.53</td>\n",
       "      <td>12014.15</td>\n",
       "      <td>11988.14</td>\n",
       "      <td>26.01</td>\n",
       "      <td>0.0</td>\n",
       "      <td>organic</td>\n",
       "      <td>2018</td>\n",
       "      <td>WestTexNewMexico</td>\n",
       "    </tr>\n",
       "  </tbody>\n",
       "</table>\n",
       "<p>18249 rows × 14 columns</p>\n",
       "</div>"
      ],
      "text/plain": [
       "       Unnamed: 0        Date  AveragePrice  Total Volume     4046       4225  \\\n",
       "0               0  2015-12-27          1.33      64236.62  1036.74   54454.85   \n",
       "1               1  2015-12-20          1.35      54876.98   674.28   44638.81   \n",
       "2               2  2015-12-13          0.93     118220.22   794.70  109149.67   \n",
       "3               3  2015-12-06          1.08      78992.15  1132.00   71976.41   \n",
       "4               4  2015-11-29          1.28      51039.60   941.48   43838.39   \n",
       "...           ...         ...           ...           ...      ...        ...   \n",
       "18244           7  2018-02-04          1.63      17074.83  2046.96    1529.20   \n",
       "18245           8  2018-01-28          1.71      13888.04  1191.70    3431.50   \n",
       "18246           9  2018-01-21          1.87      13766.76  1191.92    2452.79   \n",
       "18247          10  2018-01-14          1.93      16205.22  1527.63    2981.04   \n",
       "18248          11  2018-01-07          1.62      17489.58  2894.77    2356.13   \n",
       "\n",
       "         4770  Total Bags  Small Bags  Large Bags  XLarge Bags          type  \\\n",
       "0       48.16     8696.87     8603.62       93.25          0.0  conventional   \n",
       "1       58.33     9505.56     9408.07       97.49          0.0  conventional   \n",
       "2      130.50     8145.35     8042.21      103.14          0.0  conventional   \n",
       "3       72.58     5811.16     5677.40      133.76          0.0  conventional   \n",
       "4       75.78     6183.95     5986.26      197.69          0.0  conventional   \n",
       "...       ...         ...         ...         ...          ...           ...   \n",
       "18244    0.00    13498.67    13066.82      431.85          0.0       organic   \n",
       "18245    0.00     9264.84     8940.04      324.80          0.0       organic   \n",
       "18246  727.94     9394.11     9351.80       42.31          0.0       organic   \n",
       "18247  727.01    10969.54    10919.54       50.00          0.0       organic   \n",
       "18248  224.53    12014.15    11988.14       26.01          0.0       organic   \n",
       "\n",
       "       year            region  \n",
       "0      2015            Albany  \n",
       "1      2015            Albany  \n",
       "2      2015            Albany  \n",
       "3      2015            Albany  \n",
       "4      2015            Albany  \n",
       "...     ...               ...  \n",
       "18244  2018  WestTexNewMexico  \n",
       "18245  2018  WestTexNewMexico  \n",
       "18246  2018  WestTexNewMexico  \n",
       "18247  2018  WestTexNewMexico  \n",
       "18248  2018  WestTexNewMexico  \n",
       "\n",
       "[18249 rows x 14 columns]"
      ]
     },
     "execution_count": 2,
     "metadata": {},
     "output_type": "execute_result"
    }
   ],
   "source": [
    "df = pd.read_csv(\"avacado.csv\")\n",
    "df"
   ]
  },
  {
   "cell_type": "code",
   "execution_count": 3,
   "id": "41b00574",
   "metadata": {},
   "outputs": [
    {
     "data": {
      "text/html": [
       "<div>\n",
       "<style scoped>\n",
       "    .dataframe tbody tr th:only-of-type {\n",
       "        vertical-align: middle;\n",
       "    }\n",
       "\n",
       "    .dataframe tbody tr th {\n",
       "        vertical-align: top;\n",
       "    }\n",
       "\n",
       "    .dataframe thead th {\n",
       "        text-align: right;\n",
       "    }\n",
       "</style>\n",
       "<table border=\"1\" class=\"dataframe\">\n",
       "  <thead>\n",
       "    <tr style=\"text-align: right;\">\n",
       "      <th></th>\n",
       "      <th>index</th>\n",
       "      <th>Unnamed: 0</th>\n",
       "      <th>Date</th>\n",
       "      <th>AveragePrice</th>\n",
       "      <th>Total Volume</th>\n",
       "      <th>4046</th>\n",
       "      <th>4225</th>\n",
       "      <th>4770</th>\n",
       "      <th>Total Bags</th>\n",
       "      <th>Small Bags</th>\n",
       "      <th>Large Bags</th>\n",
       "      <th>XLarge Bags</th>\n",
       "      <th>type</th>\n",
       "      <th>year</th>\n",
       "      <th>region</th>\n",
       "    </tr>\n",
       "  </thead>\n",
       "  <tbody>\n",
       "    <tr>\n",
       "      <th>0</th>\n",
       "      <td>14235</td>\n",
       "      <td>14</td>\n",
       "      <td>2016-09-18</td>\n",
       "      <td>1.66</td>\n",
       "      <td>9465.99</td>\n",
       "      <td>479.32</td>\n",
       "      <td>3496.18</td>\n",
       "      <td>354.07</td>\n",
       "      <td>5136.42</td>\n",
       "      <td>3837.20</td>\n",
       "      <td>1299.22</td>\n",
       "      <td>0.00</td>\n",
       "      <td>organic</td>\n",
       "      <td>2016</td>\n",
       "      <td>SouthCarolina</td>\n",
       "    </tr>\n",
       "    <tr>\n",
       "      <th>1</th>\n",
       "      <td>8121</td>\n",
       "      <td>14</td>\n",
       "      <td>2017-09-24</td>\n",
       "      <td>1.84</td>\n",
       "      <td>54348.48</td>\n",
       "      <td>13393.92</td>\n",
       "      <td>20303.31</td>\n",
       "      <td>124.02</td>\n",
       "      <td>20527.23</td>\n",
       "      <td>13723.75</td>\n",
       "      <td>6762.47</td>\n",
       "      <td>41.01</td>\n",
       "      <td>conventional</td>\n",
       "      <td>2017</td>\n",
       "      <td>Spokane</td>\n",
       "    </tr>\n",
       "    <tr>\n",
       "      <th>2</th>\n",
       "      <td>7269</td>\n",
       "      <td>10</td>\n",
       "      <td>2017-10-22</td>\n",
       "      <td>1.56</td>\n",
       "      <td>328326.17</td>\n",
       "      <td>214853.32</td>\n",
       "      <td>27481.16</td>\n",
       "      <td>613.49</td>\n",
       "      <td>85378.20</td>\n",
       "      <td>50444.75</td>\n",
       "      <td>34933.45</td>\n",
       "      <td>0.00</td>\n",
       "      <td>conventional</td>\n",
       "      <td>2017</td>\n",
       "      <td>Orlando</td>\n",
       "    </tr>\n",
       "    <tr>\n",
       "      <th>3</th>\n",
       "      <td>17517</td>\n",
       "      <td>20</td>\n",
       "      <td>2017-08-13</td>\n",
       "      <td>2.24</td>\n",
       "      <td>157709.51</td>\n",
       "      <td>26941.72</td>\n",
       "      <td>37508.97</td>\n",
       "      <td>108.24</td>\n",
       "      <td>93150.58</td>\n",
       "      <td>56351.71</td>\n",
       "      <td>36794.47</td>\n",
       "      <td>4.40</td>\n",
       "      <td>organic</td>\n",
       "      <td>2017</td>\n",
       "      <td>West</td>\n",
       "    </tr>\n",
       "    <tr>\n",
       "      <th>4</th>\n",
       "      <td>15053</td>\n",
       "      <td>47</td>\n",
       "      <td>2017-02-05</td>\n",
       "      <td>1.81</td>\n",
       "      <td>5750.39</td>\n",
       "      <td>6.11</td>\n",
       "      <td>258.24</td>\n",
       "      <td>0.00</td>\n",
       "      <td>5486.04</td>\n",
       "      <td>3200.60</td>\n",
       "      <td>2285.44</td>\n",
       "      <td>0.00</td>\n",
       "      <td>organic</td>\n",
       "      <td>2017</td>\n",
       "      <td>BuffaloRochester</td>\n",
       "    </tr>\n",
       "    <tr>\n",
       "      <th>...</th>\n",
       "      <td>...</td>\n",
       "      <td>...</td>\n",
       "      <td>...</td>\n",
       "      <td>...</td>\n",
       "      <td>...</td>\n",
       "      <td>...</td>\n",
       "      <td>...</td>\n",
       "      <td>...</td>\n",
       "      <td>...</td>\n",
       "      <td>...</td>\n",
       "      <td>...</td>\n",
       "      <td>...</td>\n",
       "      <td>...</td>\n",
       "      <td>...</td>\n",
       "      <td>...</td>\n",
       "    </tr>\n",
       "    <tr>\n",
       "      <th>18244</th>\n",
       "      <td>9287</td>\n",
       "      <td>5</td>\n",
       "      <td>2015-11-22</td>\n",
       "      <td>1.54</td>\n",
       "      <td>1000.86</td>\n",
       "      <td>7.77</td>\n",
       "      <td>724.33</td>\n",
       "      <td>2.59</td>\n",
       "      <td>266.17</td>\n",
       "      <td>13.34</td>\n",
       "      <td>252.83</td>\n",
       "      <td>0.00</td>\n",
       "      <td>organic</td>\n",
       "      <td>2015</td>\n",
       "      <td>Boise</td>\n",
       "    </tr>\n",
       "    <tr>\n",
       "      <th>18245</th>\n",
       "      <td>13420</td>\n",
       "      <td>31</td>\n",
       "      <td>2016-05-22</td>\n",
       "      <td>2.01</td>\n",
       "      <td>44794.06</td>\n",
       "      <td>5435.81</td>\n",
       "      <td>21065.01</td>\n",
       "      <td>2695.05</td>\n",
       "      <td>15598.19</td>\n",
       "      <td>15280.12</td>\n",
       "      <td>318.07</td>\n",
       "      <td>0.00</td>\n",
       "      <td>organic</td>\n",
       "      <td>2016</td>\n",
       "      <td>NewYork</td>\n",
       "    </tr>\n",
       "    <tr>\n",
       "      <th>18246</th>\n",
       "      <td>16866</td>\n",
       "      <td>5</td>\n",
       "      <td>2017-11-26</td>\n",
       "      <td>1.72</td>\n",
       "      <td>6851.13</td>\n",
       "      <td>2309.23</td>\n",
       "      <td>2494.13</td>\n",
       "      <td>0.00</td>\n",
       "      <td>2047.77</td>\n",
       "      <td>2047.77</td>\n",
       "      <td>0.00</td>\n",
       "      <td>0.00</td>\n",
       "      <td>organic</td>\n",
       "      <td>2017</td>\n",
       "      <td>Sacramento</td>\n",
       "    </tr>\n",
       "    <tr>\n",
       "      <th>18247</th>\n",
       "      <td>13604</td>\n",
       "      <td>7</td>\n",
       "      <td>2016-11-06</td>\n",
       "      <td>2.32</td>\n",
       "      <td>7734.59</td>\n",
       "      <td>869.13</td>\n",
       "      <td>2632.06</td>\n",
       "      <td>0.00</td>\n",
       "      <td>4233.40</td>\n",
       "      <td>4214.36</td>\n",
       "      <td>19.04</td>\n",
       "      <td>0.00</td>\n",
       "      <td>organic</td>\n",
       "      <td>2016</td>\n",
       "      <td>Philadelphia</td>\n",
       "    </tr>\n",
       "    <tr>\n",
       "      <th>18248</th>\n",
       "      <td>5844</td>\n",
       "      <td>16</td>\n",
       "      <td>2017-09-10</td>\n",
       "      <td>1.63</td>\n",
       "      <td>524513.26</td>\n",
       "      <td>10795.32</td>\n",
       "      <td>394645.36</td>\n",
       "      <td>1483.54</td>\n",
       "      <td>117589.04</td>\n",
       "      <td>97862.02</td>\n",
       "      <td>18127.02</td>\n",
       "      <td>1600.00</td>\n",
       "      <td>conventional</td>\n",
       "      <td>2017</td>\n",
       "      <td>Boston</td>\n",
       "    </tr>\n",
       "  </tbody>\n",
       "</table>\n",
       "<p>18249 rows × 15 columns</p>\n",
       "</div>"
      ],
      "text/plain": [
       "       index  Unnamed: 0        Date  AveragePrice  Total Volume       4046  \\\n",
       "0      14235          14  2016-09-18          1.66       9465.99     479.32   \n",
       "1       8121          14  2017-09-24          1.84      54348.48   13393.92   \n",
       "2       7269          10  2017-10-22          1.56     328326.17  214853.32   \n",
       "3      17517          20  2017-08-13          2.24     157709.51   26941.72   \n",
       "4      15053          47  2017-02-05          1.81       5750.39       6.11   \n",
       "...      ...         ...         ...           ...           ...        ...   \n",
       "18244   9287           5  2015-11-22          1.54       1000.86       7.77   \n",
       "18245  13420          31  2016-05-22          2.01      44794.06    5435.81   \n",
       "18246  16866           5  2017-11-26          1.72       6851.13    2309.23   \n",
       "18247  13604           7  2016-11-06          2.32       7734.59     869.13   \n",
       "18248   5844          16  2017-09-10          1.63     524513.26   10795.32   \n",
       "\n",
       "            4225     4770  Total Bags  Small Bags  Large Bags  XLarge Bags  \\\n",
       "0        3496.18   354.07     5136.42     3837.20     1299.22         0.00   \n",
       "1       20303.31   124.02    20527.23    13723.75     6762.47        41.01   \n",
       "2       27481.16   613.49    85378.20    50444.75    34933.45         0.00   \n",
       "3       37508.97   108.24    93150.58    56351.71    36794.47         4.40   \n",
       "4         258.24     0.00     5486.04     3200.60     2285.44         0.00   \n",
       "...          ...      ...         ...         ...         ...          ...   \n",
       "18244     724.33     2.59      266.17       13.34      252.83         0.00   \n",
       "18245   21065.01  2695.05    15598.19    15280.12      318.07         0.00   \n",
       "18246    2494.13     0.00     2047.77     2047.77        0.00         0.00   \n",
       "18247    2632.06     0.00     4233.40     4214.36       19.04         0.00   \n",
       "18248  394645.36  1483.54   117589.04    97862.02    18127.02      1600.00   \n",
       "\n",
       "               type  year            region  \n",
       "0           organic  2016     SouthCarolina  \n",
       "1      conventional  2017           Spokane  \n",
       "2      conventional  2017           Orlando  \n",
       "3           organic  2017              West  \n",
       "4           organic  2017  BuffaloRochester  \n",
       "...             ...   ...               ...  \n",
       "18244       organic  2015             Boise  \n",
       "18245       organic  2016           NewYork  \n",
       "18246       organic  2017        Sacramento  \n",
       "18247       organic  2016      Philadelphia  \n",
       "18248  conventional  2017            Boston  \n",
       "\n",
       "[18249 rows x 15 columns]"
      ]
     },
     "execution_count": 3,
     "metadata": {},
     "output_type": "execute_result"
    }
   ],
   "source": [
    "from sklearn.utils import shuffle\n",
    "df = shuffle(df)\n",
    "df.reset_index(inplace = True)\n",
    "df"
   ]
  },
  {
   "cell_type": "markdown",
   "id": "591e1fcb",
   "metadata": {},
   "source": [
    "# Exploratory Data Analysis (EDA)"
   ]
  },
  {
   "cell_type": "code",
   "execution_count": 4,
   "id": "5a8ca866",
   "metadata": {},
   "outputs": [
    {
     "data": {
      "text/plain": [
       "index           0\n",
       "Unnamed: 0      0\n",
       "Date            0\n",
       "AveragePrice    0\n",
       "Total Volume    0\n",
       "4046            0\n",
       "4225            0\n",
       "4770            0\n",
       "Total Bags      0\n",
       "Small Bags      0\n",
       "Large Bags      0\n",
       "XLarge Bags     0\n",
       "type            0\n",
       "year            0\n",
       "region          0\n",
       "dtype: int64"
      ]
     },
     "execution_count": 4,
     "metadata": {},
     "output_type": "execute_result"
    }
   ],
   "source": [
    "df.isnull().sum()"
   ]
  },
  {
   "cell_type": "code",
   "execution_count": 5,
   "id": "9b695e1e",
   "metadata": {},
   "outputs": [
    {
     "data": {
      "text/plain": [
       "0"
      ]
     },
     "execution_count": 5,
     "metadata": {},
     "output_type": "execute_result"
    }
   ],
   "source": [
    "df.duplicated().sum()"
   ]
  },
  {
   "cell_type": "code",
   "execution_count": 6,
   "id": "f3936848",
   "metadata": {},
   "outputs": [
    {
     "name": "stdout",
     "output_type": "stream",
     "text": [
      "<class 'pandas.core.frame.DataFrame'>\n",
      "RangeIndex: 18249 entries, 0 to 18248\n",
      "Data columns (total 15 columns):\n",
      " #   Column        Non-Null Count  Dtype  \n",
      "---  ------        --------------  -----  \n",
      " 0   index         18249 non-null  int64  \n",
      " 1   Unnamed: 0    18249 non-null  int64  \n",
      " 2   Date          18249 non-null  object \n",
      " 3   AveragePrice  18249 non-null  float64\n",
      " 4   Total Volume  18249 non-null  float64\n",
      " 5   4046          18249 non-null  float64\n",
      " 6   4225          18249 non-null  float64\n",
      " 7   4770          18249 non-null  float64\n",
      " 8   Total Bags    18249 non-null  float64\n",
      " 9   Small Bags    18249 non-null  float64\n",
      " 10  Large Bags    18249 non-null  float64\n",
      " 11  XLarge Bags   18249 non-null  float64\n",
      " 12  type          18249 non-null  object \n",
      " 13  year          18249 non-null  int64  \n",
      " 14  region        18249 non-null  object \n",
      "dtypes: float64(9), int64(3), object(3)\n",
      "memory usage: 2.1+ MB\n"
     ]
    }
   ],
   "source": [
    "#Lets look at the info relates to data\n",
    "df.info()"
   ]
  },
  {
   "cell_type": "code",
   "execution_count": 7,
   "id": "c118ee35",
   "metadata": {},
   "outputs": [
    {
     "data": {
      "text/html": [
       "<div>\n",
       "<style scoped>\n",
       "    .dataframe tbody tr th:only-of-type {\n",
       "        vertical-align: middle;\n",
       "    }\n",
       "\n",
       "    .dataframe tbody tr th {\n",
       "        vertical-align: top;\n",
       "    }\n",
       "\n",
       "    .dataframe thead th {\n",
       "        text-align: right;\n",
       "    }\n",
       "</style>\n",
       "<table border=\"1\" class=\"dataframe\">\n",
       "  <thead>\n",
       "    <tr style=\"text-align: right;\">\n",
       "      <th></th>\n",
       "      <th>index</th>\n",
       "      <th>Unnamed: 0</th>\n",
       "      <th>Date</th>\n",
       "      <th>AveragePrice</th>\n",
       "      <th>Total Volume</th>\n",
       "      <th>4046</th>\n",
       "      <th>4225</th>\n",
       "      <th>4770</th>\n",
       "      <th>Total Bags</th>\n",
       "      <th>Small Bags</th>\n",
       "      <th>Large Bags</th>\n",
       "      <th>XLarge Bags</th>\n",
       "      <th>type</th>\n",
       "      <th>year</th>\n",
       "      <th>region</th>\n",
       "      <th>Year</th>\n",
       "      <th>Month</th>\n",
       "      <th>Day</th>\n",
       "    </tr>\n",
       "  </thead>\n",
       "  <tbody>\n",
       "    <tr>\n",
       "      <th>0</th>\n",
       "      <td>14235</td>\n",
       "      <td>14</td>\n",
       "      <td>2016-09-18</td>\n",
       "      <td>1.66</td>\n",
       "      <td>9465.99</td>\n",
       "      <td>479.32</td>\n",
       "      <td>3496.18</td>\n",
       "      <td>354.07</td>\n",
       "      <td>5136.42</td>\n",
       "      <td>3837.20</td>\n",
       "      <td>1299.22</td>\n",
       "      <td>0.00</td>\n",
       "      <td>organic</td>\n",
       "      <td>2016</td>\n",
       "      <td>SouthCarolina</td>\n",
       "      <td>2016</td>\n",
       "      <td>09</td>\n",
       "      <td>18</td>\n",
       "    </tr>\n",
       "    <tr>\n",
       "      <th>1</th>\n",
       "      <td>8121</td>\n",
       "      <td>14</td>\n",
       "      <td>2017-09-24</td>\n",
       "      <td>1.84</td>\n",
       "      <td>54348.48</td>\n",
       "      <td>13393.92</td>\n",
       "      <td>20303.31</td>\n",
       "      <td>124.02</td>\n",
       "      <td>20527.23</td>\n",
       "      <td>13723.75</td>\n",
       "      <td>6762.47</td>\n",
       "      <td>41.01</td>\n",
       "      <td>conventional</td>\n",
       "      <td>2017</td>\n",
       "      <td>Spokane</td>\n",
       "      <td>2017</td>\n",
       "      <td>09</td>\n",
       "      <td>24</td>\n",
       "    </tr>\n",
       "    <tr>\n",
       "      <th>2</th>\n",
       "      <td>7269</td>\n",
       "      <td>10</td>\n",
       "      <td>2017-10-22</td>\n",
       "      <td>1.56</td>\n",
       "      <td>328326.17</td>\n",
       "      <td>214853.32</td>\n",
       "      <td>27481.16</td>\n",
       "      <td>613.49</td>\n",
       "      <td>85378.20</td>\n",
       "      <td>50444.75</td>\n",
       "      <td>34933.45</td>\n",
       "      <td>0.00</td>\n",
       "      <td>conventional</td>\n",
       "      <td>2017</td>\n",
       "      <td>Orlando</td>\n",
       "      <td>2017</td>\n",
       "      <td>10</td>\n",
       "      <td>22</td>\n",
       "    </tr>\n",
       "    <tr>\n",
       "      <th>3</th>\n",
       "      <td>17517</td>\n",
       "      <td>20</td>\n",
       "      <td>2017-08-13</td>\n",
       "      <td>2.24</td>\n",
       "      <td>157709.51</td>\n",
       "      <td>26941.72</td>\n",
       "      <td>37508.97</td>\n",
       "      <td>108.24</td>\n",
       "      <td>93150.58</td>\n",
       "      <td>56351.71</td>\n",
       "      <td>36794.47</td>\n",
       "      <td>4.40</td>\n",
       "      <td>organic</td>\n",
       "      <td>2017</td>\n",
       "      <td>West</td>\n",
       "      <td>2017</td>\n",
       "      <td>08</td>\n",
       "      <td>13</td>\n",
       "    </tr>\n",
       "    <tr>\n",
       "      <th>4</th>\n",
       "      <td>15053</td>\n",
       "      <td>47</td>\n",
       "      <td>2017-02-05</td>\n",
       "      <td>1.81</td>\n",
       "      <td>5750.39</td>\n",
       "      <td>6.11</td>\n",
       "      <td>258.24</td>\n",
       "      <td>0.00</td>\n",
       "      <td>5486.04</td>\n",
       "      <td>3200.60</td>\n",
       "      <td>2285.44</td>\n",
       "      <td>0.00</td>\n",
       "      <td>organic</td>\n",
       "      <td>2017</td>\n",
       "      <td>BuffaloRochester</td>\n",
       "      <td>2017</td>\n",
       "      <td>02</td>\n",
       "      <td>05</td>\n",
       "    </tr>\n",
       "    <tr>\n",
       "      <th>5</th>\n",
       "      <td>18125</td>\n",
       "      <td>8</td>\n",
       "      <td>2018-01-28</td>\n",
       "      <td>1.99</td>\n",
       "      <td>35988.00</td>\n",
       "      <td>954.77</td>\n",
       "      <td>11558.54</td>\n",
       "      <td>32.00</td>\n",
       "      <td>23442.69</td>\n",
       "      <td>1487.79</td>\n",
       "      <td>21867.48</td>\n",
       "      <td>87.42</td>\n",
       "      <td>organic</td>\n",
       "      <td>2018</td>\n",
       "      <td>Seattle</td>\n",
       "      <td>2018</td>\n",
       "      <td>01</td>\n",
       "      <td>28</td>\n",
       "    </tr>\n",
       "    <tr>\n",
       "      <th>6</th>\n",
       "      <td>9030</td>\n",
       "      <td>0</td>\n",
       "      <td>2018-03-25</td>\n",
       "      <td>1.23</td>\n",
       "      <td>4454904.40</td>\n",
       "      <td>2489234.81</td>\n",
       "      <td>333310.56</td>\n",
       "      <td>18460.82</td>\n",
       "      <td>1613898.21</td>\n",
       "      <td>1117431.16</td>\n",
       "      <td>484934.57</td>\n",
       "      <td>11532.48</td>\n",
       "      <td>conventional</td>\n",
       "      <td>2018</td>\n",
       "      <td>Southeast</td>\n",
       "      <td>2018</td>\n",
       "      <td>03</td>\n",
       "      <td>25</td>\n",
       "    </tr>\n",
       "    <tr>\n",
       "      <th>7</th>\n",
       "      <td>9977</td>\n",
       "      <td>19</td>\n",
       "      <td>2015-08-16</td>\n",
       "      <td>1.88</td>\n",
       "      <td>1721.57</td>\n",
       "      <td>101.04</td>\n",
       "      <td>156.68</td>\n",
       "      <td>7.65</td>\n",
       "      <td>1456.20</td>\n",
       "      <td>1456.20</td>\n",
       "      <td>0.00</td>\n",
       "      <td>0.00</td>\n",
       "      <td>organic</td>\n",
       "      <td>2015</td>\n",
       "      <td>HarrisburgScranton</td>\n",
       "      <td>2015</td>\n",
       "      <td>08</td>\n",
       "      <td>16</td>\n",
       "    </tr>\n",
       "    <tr>\n",
       "      <th>8</th>\n",
       "      <td>11679</td>\n",
       "      <td>5</td>\n",
       "      <td>2015-11-22</td>\n",
       "      <td>1.63</td>\n",
       "      <td>1052.37</td>\n",
       "      <td>0.00</td>\n",
       "      <td>48.75</td>\n",
       "      <td>0.00</td>\n",
       "      <td>1003.62</td>\n",
       "      <td>1003.62</td>\n",
       "      <td>0.00</td>\n",
       "      <td>0.00</td>\n",
       "      <td>organic</td>\n",
       "      <td>2015</td>\n",
       "      <td>Syracuse</td>\n",
       "      <td>2015</td>\n",
       "      <td>11</td>\n",
       "      <td>22</td>\n",
       "    </tr>\n",
       "    <tr>\n",
       "      <th>9</th>\n",
       "      <td>13735</td>\n",
       "      <td>34</td>\n",
       "      <td>2016-05-01</td>\n",
       "      <td>1.42</td>\n",
       "      <td>2119.08</td>\n",
       "      <td>139.29</td>\n",
       "      <td>268.86</td>\n",
       "      <td>16.20</td>\n",
       "      <td>1694.73</td>\n",
       "      <td>1694.73</td>\n",
       "      <td>0.00</td>\n",
       "      <td>0.00</td>\n",
       "      <td>organic</td>\n",
       "      <td>2016</td>\n",
       "      <td>Pittsburgh</td>\n",
       "      <td>2016</td>\n",
       "      <td>05</td>\n",
       "      <td>01</td>\n",
       "    </tr>\n",
       "  </tbody>\n",
       "</table>\n",
       "</div>"
      ],
      "text/plain": [
       "   index  Unnamed: 0        Date  AveragePrice  Total Volume        4046  \\\n",
       "0  14235          14  2016-09-18          1.66       9465.99      479.32   \n",
       "1   8121          14  2017-09-24          1.84      54348.48    13393.92   \n",
       "2   7269          10  2017-10-22          1.56     328326.17   214853.32   \n",
       "3  17517          20  2017-08-13          2.24     157709.51    26941.72   \n",
       "4  15053          47  2017-02-05          1.81       5750.39        6.11   \n",
       "5  18125           8  2018-01-28          1.99      35988.00      954.77   \n",
       "6   9030           0  2018-03-25          1.23    4454904.40  2489234.81   \n",
       "7   9977          19  2015-08-16          1.88       1721.57      101.04   \n",
       "8  11679           5  2015-11-22          1.63       1052.37        0.00   \n",
       "9  13735          34  2016-05-01          1.42       2119.08      139.29   \n",
       "\n",
       "        4225      4770  Total Bags  Small Bags  Large Bags  XLarge Bags  \\\n",
       "0    3496.18    354.07     5136.42     3837.20     1299.22         0.00   \n",
       "1   20303.31    124.02    20527.23    13723.75     6762.47        41.01   \n",
       "2   27481.16    613.49    85378.20    50444.75    34933.45         0.00   \n",
       "3   37508.97    108.24    93150.58    56351.71    36794.47         4.40   \n",
       "4     258.24      0.00     5486.04     3200.60     2285.44         0.00   \n",
       "5   11558.54     32.00    23442.69     1487.79    21867.48        87.42   \n",
       "6  333310.56  18460.82  1613898.21  1117431.16   484934.57     11532.48   \n",
       "7     156.68      7.65     1456.20     1456.20        0.00         0.00   \n",
       "8      48.75      0.00     1003.62     1003.62        0.00         0.00   \n",
       "9     268.86     16.20     1694.73     1694.73        0.00         0.00   \n",
       "\n",
       "           type  year              region  Year Month Day  \n",
       "0       organic  2016       SouthCarolina  2016    09  18  \n",
       "1  conventional  2017             Spokane  2017    09  24  \n",
       "2  conventional  2017             Orlando  2017    10  22  \n",
       "3       organic  2017                West  2017    08  13  \n",
       "4       organic  2017    BuffaloRochester  2017    02  05  \n",
       "5       organic  2018             Seattle  2018    01  28  \n",
       "6  conventional  2018           Southeast  2018    03  25  \n",
       "7       organic  2015  HarrisburgScranton  2015    08  16  \n",
       "8       organic  2015            Syracuse  2015    11  22  \n",
       "9       organic  2016          Pittsburgh  2016    05  01  "
      ]
     },
     "execution_count": 7,
     "metadata": {},
     "output_type": "execute_result"
    }
   ],
   "source": [
    "#By looking at data types, we can see that date is not datetime, so we will solve this problem and sort the data by date. Then will divide the dates into day-month-year for a better analysis.\n",
    "\n",
    "dates = [datetime.datetime.strptime(ts, \"%Y-%m-%d\") for ts in df['Date']]\n",
    "df['Year'], df['Month'],  df['Day'] = df['Date'].str.split('-').str\n",
    "df.head(10)"
   ]
  },
  {
   "cell_type": "code",
   "execution_count": 8,
   "id": "09a1579e",
   "metadata": {},
   "outputs": [],
   "source": [
    "#Lets drop Unnamed: 0 & index column as it just having index values\n",
    "#AS we converted Dates column into new features, we can drop Dates, years columns from our dataset\n",
    "drop_columns = [\"index\",\"Unnamed: 0\",\"Date\",\"year\"]\n",
    "df.drop(columns = drop_columns, axis=1, inplace = True)"
   ]
  },
  {
   "cell_type": "code",
   "execution_count": 9,
   "id": "0697d08d",
   "metadata": {},
   "outputs": [],
   "source": [
    "# we can also drop columns Total Volume and Total Bags as total volume is sum of small large and xlarge type of avocados\n",
    "# And total bags is sum of small,large and Xlarge bags\n",
    "clms = [\"Total Volume\", \"Total Bags\"]\n",
    "df.drop(columns = clms, axis = 1, inplace = True)"
   ]
  },
  {
   "cell_type": "code",
   "execution_count": 10,
   "id": "94c77563",
   "metadata": {},
   "outputs": [
    {
     "data": {
      "text/html": [
       "<div>\n",
       "<style scoped>\n",
       "    .dataframe tbody tr th:only-of-type {\n",
       "        vertical-align: middle;\n",
       "    }\n",
       "\n",
       "    .dataframe tbody tr th {\n",
       "        vertical-align: top;\n",
       "    }\n",
       "\n",
       "    .dataframe thead th {\n",
       "        text-align: right;\n",
       "    }\n",
       "</style>\n",
       "<table border=\"1\" class=\"dataframe\">\n",
       "  <thead>\n",
       "    <tr style=\"text-align: right;\">\n",
       "      <th></th>\n",
       "      <th>AveragePrice</th>\n",
       "      <th>4046</th>\n",
       "      <th>4225</th>\n",
       "      <th>4770</th>\n",
       "      <th>Small Bags</th>\n",
       "      <th>Large Bags</th>\n",
       "      <th>XLarge Bags</th>\n",
       "      <th>type</th>\n",
       "      <th>region</th>\n",
       "      <th>Year</th>\n",
       "      <th>Month</th>\n",
       "      <th>Day</th>\n",
       "    </tr>\n",
       "  </thead>\n",
       "  <tbody>\n",
       "    <tr>\n",
       "      <th>0</th>\n",
       "      <td>1.66</td>\n",
       "      <td>479.32</td>\n",
       "      <td>3496.18</td>\n",
       "      <td>354.07</td>\n",
       "      <td>3837.20</td>\n",
       "      <td>1299.22</td>\n",
       "      <td>0.00</td>\n",
       "      <td>organic</td>\n",
       "      <td>SouthCarolina</td>\n",
       "      <td>2016</td>\n",
       "      <td>09</td>\n",
       "      <td>18</td>\n",
       "    </tr>\n",
       "    <tr>\n",
       "      <th>1</th>\n",
       "      <td>1.84</td>\n",
       "      <td>13393.92</td>\n",
       "      <td>20303.31</td>\n",
       "      <td>124.02</td>\n",
       "      <td>13723.75</td>\n",
       "      <td>6762.47</td>\n",
       "      <td>41.01</td>\n",
       "      <td>conventional</td>\n",
       "      <td>Spokane</td>\n",
       "      <td>2017</td>\n",
       "      <td>09</td>\n",
       "      <td>24</td>\n",
       "    </tr>\n",
       "    <tr>\n",
       "      <th>2</th>\n",
       "      <td>1.56</td>\n",
       "      <td>214853.32</td>\n",
       "      <td>27481.16</td>\n",
       "      <td>613.49</td>\n",
       "      <td>50444.75</td>\n",
       "      <td>34933.45</td>\n",
       "      <td>0.00</td>\n",
       "      <td>conventional</td>\n",
       "      <td>Orlando</td>\n",
       "      <td>2017</td>\n",
       "      <td>10</td>\n",
       "      <td>22</td>\n",
       "    </tr>\n",
       "    <tr>\n",
       "      <th>3</th>\n",
       "      <td>2.24</td>\n",
       "      <td>26941.72</td>\n",
       "      <td>37508.97</td>\n",
       "      <td>108.24</td>\n",
       "      <td>56351.71</td>\n",
       "      <td>36794.47</td>\n",
       "      <td>4.40</td>\n",
       "      <td>organic</td>\n",
       "      <td>West</td>\n",
       "      <td>2017</td>\n",
       "      <td>08</td>\n",
       "      <td>13</td>\n",
       "    </tr>\n",
       "    <tr>\n",
       "      <th>4</th>\n",
       "      <td>1.81</td>\n",
       "      <td>6.11</td>\n",
       "      <td>258.24</td>\n",
       "      <td>0.00</td>\n",
       "      <td>3200.60</td>\n",
       "      <td>2285.44</td>\n",
       "      <td>0.00</td>\n",
       "      <td>organic</td>\n",
       "      <td>BuffaloRochester</td>\n",
       "      <td>2017</td>\n",
       "      <td>02</td>\n",
       "      <td>05</td>\n",
       "    </tr>\n",
       "    <tr>\n",
       "      <th>...</th>\n",
       "      <td>...</td>\n",
       "      <td>...</td>\n",
       "      <td>...</td>\n",
       "      <td>...</td>\n",
       "      <td>...</td>\n",
       "      <td>...</td>\n",
       "      <td>...</td>\n",
       "      <td>...</td>\n",
       "      <td>...</td>\n",
       "      <td>...</td>\n",
       "      <td>...</td>\n",
       "      <td>...</td>\n",
       "    </tr>\n",
       "    <tr>\n",
       "      <th>18244</th>\n",
       "      <td>1.54</td>\n",
       "      <td>7.77</td>\n",
       "      <td>724.33</td>\n",
       "      <td>2.59</td>\n",
       "      <td>13.34</td>\n",
       "      <td>252.83</td>\n",
       "      <td>0.00</td>\n",
       "      <td>organic</td>\n",
       "      <td>Boise</td>\n",
       "      <td>2015</td>\n",
       "      <td>11</td>\n",
       "      <td>22</td>\n",
       "    </tr>\n",
       "    <tr>\n",
       "      <th>18245</th>\n",
       "      <td>2.01</td>\n",
       "      <td>5435.81</td>\n",
       "      <td>21065.01</td>\n",
       "      <td>2695.05</td>\n",
       "      <td>15280.12</td>\n",
       "      <td>318.07</td>\n",
       "      <td>0.00</td>\n",
       "      <td>organic</td>\n",
       "      <td>NewYork</td>\n",
       "      <td>2016</td>\n",
       "      <td>05</td>\n",
       "      <td>22</td>\n",
       "    </tr>\n",
       "    <tr>\n",
       "      <th>18246</th>\n",
       "      <td>1.72</td>\n",
       "      <td>2309.23</td>\n",
       "      <td>2494.13</td>\n",
       "      <td>0.00</td>\n",
       "      <td>2047.77</td>\n",
       "      <td>0.00</td>\n",
       "      <td>0.00</td>\n",
       "      <td>organic</td>\n",
       "      <td>Sacramento</td>\n",
       "      <td>2017</td>\n",
       "      <td>11</td>\n",
       "      <td>26</td>\n",
       "    </tr>\n",
       "    <tr>\n",
       "      <th>18247</th>\n",
       "      <td>2.32</td>\n",
       "      <td>869.13</td>\n",
       "      <td>2632.06</td>\n",
       "      <td>0.00</td>\n",
       "      <td>4214.36</td>\n",
       "      <td>19.04</td>\n",
       "      <td>0.00</td>\n",
       "      <td>organic</td>\n",
       "      <td>Philadelphia</td>\n",
       "      <td>2016</td>\n",
       "      <td>11</td>\n",
       "      <td>06</td>\n",
       "    </tr>\n",
       "    <tr>\n",
       "      <th>18248</th>\n",
       "      <td>1.63</td>\n",
       "      <td>10795.32</td>\n",
       "      <td>394645.36</td>\n",
       "      <td>1483.54</td>\n",
       "      <td>97862.02</td>\n",
       "      <td>18127.02</td>\n",
       "      <td>1600.00</td>\n",
       "      <td>conventional</td>\n",
       "      <td>Boston</td>\n",
       "      <td>2017</td>\n",
       "      <td>09</td>\n",
       "      <td>10</td>\n",
       "    </tr>\n",
       "  </tbody>\n",
       "</table>\n",
       "<p>18249 rows × 12 columns</p>\n",
       "</div>"
      ],
      "text/plain": [
       "       AveragePrice       4046       4225     4770  Small Bags  Large Bags  \\\n",
       "0              1.66     479.32    3496.18   354.07     3837.20     1299.22   \n",
       "1              1.84   13393.92   20303.31   124.02    13723.75     6762.47   \n",
       "2              1.56  214853.32   27481.16   613.49    50444.75    34933.45   \n",
       "3              2.24   26941.72   37508.97   108.24    56351.71    36794.47   \n",
       "4              1.81       6.11     258.24     0.00     3200.60     2285.44   \n",
       "...             ...        ...        ...      ...         ...         ...   \n",
       "18244          1.54       7.77     724.33     2.59       13.34      252.83   \n",
       "18245          2.01    5435.81   21065.01  2695.05    15280.12      318.07   \n",
       "18246          1.72    2309.23    2494.13     0.00     2047.77        0.00   \n",
       "18247          2.32     869.13    2632.06     0.00     4214.36       19.04   \n",
       "18248          1.63   10795.32  394645.36  1483.54    97862.02    18127.02   \n",
       "\n",
       "       XLarge Bags          type            region  Year Month Day  \n",
       "0             0.00       organic     SouthCarolina  2016    09  18  \n",
       "1            41.01  conventional           Spokane  2017    09  24  \n",
       "2             0.00  conventional           Orlando  2017    10  22  \n",
       "3             4.40       organic              West  2017    08  13  \n",
       "4             0.00       organic  BuffaloRochester  2017    02  05  \n",
       "...            ...           ...               ...   ...   ...  ..  \n",
       "18244         0.00       organic             Boise  2015    11  22  \n",
       "18245         0.00       organic           NewYork  2016    05  22  \n",
       "18246         0.00       organic        Sacramento  2017    11  26  \n",
       "18247         0.00       organic      Philadelphia  2016    11  06  \n",
       "18248      1600.00  conventional            Boston  2017    09  10  \n",
       "\n",
       "[18249 rows x 12 columns]"
      ]
     },
     "execution_count": 10,
     "metadata": {},
     "output_type": "execute_result"
    }
   ],
   "source": [
    "#Lets check our dataframe after updating\n",
    "df"
   ]
  },
  {
   "cell_type": "markdown",
   "id": "f6ecbfc0",
   "metadata": {},
   "source": [
    "# Visualization"
   ]
  },
  {
   "cell_type": "code",
   "execution_count": 13,
   "id": "b2a1a514",
   "metadata": {},
   "outputs": [
    {
     "data": {
      "image/png": "[encoded data removed]",
      "text/plain": [
       "<Figure size 360x360 with 1 Axes>"
      ]
     },
     "metadata": {
      "needs_background": "light"
     },
     "output_type": "display_data"
    }
   ],
   "source": [
    "#Lets check how Small(4046) affects average price\n",
    "sns.relplot(x = \"Small Bags\", y = \"AveragePrice\", data = df)\n",
    "plt.show()"
   ]
  },
  {
   "cell_type": "code",
   "execution_count": 14,
   "id": "ddbe68ef",
   "metadata": {},
   "outputs": [
    {
     "data": {
      "image/png": "[encoded data removed]",
      "text/plain": [
       "<Figure size 360x360 with 1 Axes>"
      ]
     },
     "metadata": {
      "needs_background": "light"
     },
     "output_type": "display_data"
    }
   ],
   "source": [
    "#Lets check how Large(4225) affects average price\n",
    "sns.relplot(x = \"Large Bags\", y = \"AveragePrice\", data = df)\n",
    "plt.show()"
   ]
  },
  {
   "cell_type": "code",
   "execution_count": 15,
   "id": "e71b0634",
   "metadata": {},
   "outputs": [
    {
     "data": {
      "image/png": "[encoded data removed]",
      "text/plain": [
       "<Figure size 360x360 with 1 Axes>"
      ]
     },
     "metadata": {
      "needs_background": "light"
     },
     "output_type": "display_data"
    }
   ],
   "source": [
    "#Lets check how XLarge(4770) affects average price\n",
    "sns.relplot(x = \"XLarge Bags\", y = \"AveragePrice\", data = df)\n",
    "plt.show()"
   ]
  },
  {
   "cell_type": "code",
   "execution_count": 16,
   "id": "448ff24d",
   "metadata": {},
   "outputs": [
    {
     "data": {
      "text/plain": [
       "<AxesSubplot:xlabel='type', ylabel='count'>"
      ]
     },
     "execution_count": 16,
     "metadata": {},
     "output_type": "execute_result"
    },
    {
     "data": {
      "image/png": "[encoded data removed]",
      "text/plain": [
       "<Figure size 432x288 with 1 Axes>"
      ]
     },
     "metadata": {
      "needs_background": "light"
     },
     "output_type": "display_data"
    }
   ],
   "source": [
    "#Lets check the cuoun of conventional and organic avocados\n",
    "sns.countplot(df[\"type\"])"
   ]
  },
  {
   "cell_type": "markdown",
   "id": "961e0db9",
   "metadata": {},
   "source": [
    "There are almost equal number of conventional and organic type of avocados"
   ]
  },
  {
   "cell_type": "code",
   "execution_count": 17,
   "id": "95f6a160",
   "metadata": {},
   "outputs": [
    {
     "data": {
      "image/png": "[encoded data removed]",
      "text/plain": [
       "<Figure size 432x288 with 1 Axes>"
      ]
     },
     "metadata": {
      "needs_background": "light"
     },
     "output_type": "display_data"
    }
   ],
   "source": [
    "sns.barplot(x = \"type\", y = \"AveragePrice\", data = df)\n",
    "plt.show()"
   ]
  },
  {
   "cell_type": "markdown",
   "id": "470e24b6",
   "metadata": {},
   "source": [
    "organic avocado is more expensive as a standard compared to conventional one."
   ]
  },
  {
   "cell_type": "code",
   "execution_count": 18,
   "id": "568be6d3",
   "metadata": {},
   "outputs": [
    {
     "data": {
      "text/plain": [
       "Spokane                338\n",
       "Sacramento             338\n",
       "Jacksonville           338\n",
       "RichmondNorfolk        338\n",
       "Columbus               338\n",
       "TotalUS                338\n",
       "Indianapolis           338\n",
       "Northeast              338\n",
       "Boston                 338\n",
       "NorthernNewEngland     338\n",
       "Tampa                  338\n",
       "RaleighGreensboro      338\n",
       "Syracuse               338\n",
       "Boise                  338\n",
       "Chicago                338\n",
       "SanFrancisco           338\n",
       "NewOrleansMobile       338\n",
       "StLouis                338\n",
       "LasVegas               338\n",
       "SanDiego               338\n",
       "Albany                 338\n",
       "Louisville             338\n",
       "Midsouth               338\n",
       "SouthCarolina          338\n",
       "CincinnatiDayton       338\n",
       "BuffaloRochester       338\n",
       "Detroit                338\n",
       "Roanoke                338\n",
       "Orlando                338\n",
       "LosAngeles             338\n",
       "PhoenixTucson          338\n",
       "GreatLakes             338\n",
       "Nashville              338\n",
       "SouthCentral           338\n",
       "Southeast              338\n",
       "Atlanta                338\n",
       "GrandRapids            338\n",
       "Charlotte              338\n",
       "Houston                338\n",
       "West                   338\n",
       "Seattle                338\n",
       "HarrisburgScranton     338\n",
       "California             338\n",
       "BaltimoreWashington    338\n",
       "Pittsburgh             338\n",
       "DallasFtWorth          338\n",
       "Portland               338\n",
       "MiamiFtLauderdale      338\n",
       "Plains                 338\n",
       "Denver                 338\n",
       "HartfordSpringfield    338\n",
       "NewYork                338\n",
       "Philadelphia           338\n",
       "WestTexNewMexico       335\n",
       "Name: region, dtype: int64"
      ]
     },
     "execution_count": 18,
     "metadata": {},
     "output_type": "execute_result"
    }
   ],
   "source": [
    "#Lets check the unique values in region column\n",
    "df[\"region\"].value_counts()"
   ]
  },
  {
   "cell_type": "code",
   "execution_count": 19,
   "id": "7b8a7e52",
   "metadata": {},
   "outputs": [
    {
     "data": {
      "text/plain": [
       "Text(0.5, 1.0, 'Average Price of Avocado According to Region')"
      ]
     },
     "execution_count": 19,
     "metadata": {},
     "output_type": "execute_result"
    },
    {
     "data": {
      "image/png": "[encoded data removed]",
      "text/plain": [
       "<Figure size 1080x360 with 1 Axes>"
      ]
     },
     "metadata": {
      "needs_background": "light"
     },
     "output_type": "display_data"
    }
   ],
   "source": [
    "#Lets see how average price varies across every region\n",
    "df.groupby(\"region\")[\"AveragePrice\"].sum().sort_values(ascending=False).plot(kind=\"bar\",figsize=(15,5))\n",
    "plt.title('Average Price of Avocado According to Region')"
   ]
  },
  {
   "cell_type": "markdown",
   "id": "6af91029",
   "metadata": {},
   "source": [
    "AveragePrice Price of avocado varies from one region to another.\n",
    "\n",
    "HartfordSpringfield being highest and Houston being lowest price to get cheap Avocado."
   ]
  },
  {
   "cell_type": "code",
   "execution_count": 20,
   "id": "4043ac41",
   "metadata": {},
   "outputs": [
    {
     "data": {
      "text/plain": [
       "<AxesSubplot:xlabel='Year', ylabel='AveragePrice'>"
      ]
     },
     "execution_count": 20,
     "metadata": {},
     "output_type": "execute_result"
    },
    {
     "data": {
      "image/png": "[encoded data removed]",
      "text/plain": [
       "<Figure size 432x288 with 1 Axes>"
      ]
     },
     "metadata": {
      "needs_background": "light"
     },
     "output_type": "display_data"
    }
   ],
   "source": [
    "#Lets check average price in every year \n",
    "sns.boxplot(x=\"Year\", y=\"AveragePrice\", data=df)"
   ]
  },
  {
   "cell_type": "markdown",
   "id": "b3135946",
   "metadata": {},
   "source": [
    "it can be noticed the average price was high in 2017 compared to other years."
   ]
  },
  {
   "cell_type": "code",
   "execution_count": 21,
   "id": "a9dd2ed6",
   "metadata": {},
   "outputs": [
    {
     "data": {
      "text/plain": [
       "<AxesSubplot:xlabel='Month', ylabel='AveragePrice'>"
      ]
     },
     "execution_count": 21,
     "metadata": {},
     "output_type": "execute_result"
    },
    {
     "data": {
      "image/png": "[encoded data removed]",
      "text/plain": [
       "<Figure size 432x288 with 1 Axes>"
      ]
     },
     "metadata": {
      "needs_background": "light"
     },
     "output_type": "display_data"
    }
   ],
   "source": [
    "#Lets see what is the average price af avocado in every month\n",
    "sns.barplot(x=\"Month\", y=\"AveragePrice\", data=df)"
   ]
  },
  {
   "cell_type": "markdown",
   "id": "bfce761a",
   "metadata": {},
   "source": [
    "From this plot we can say that the average price of the avocado will have significantly higher value in the month of august, september and october compared to other months average price."
   ]
  },
  {
   "cell_type": "code",
   "execution_count": 22,
   "id": "51f841f2",
   "metadata": {},
   "outputs": [
    {
     "data": {
      "image/png": "[encoded data removed]",
      "text/plain": [
       "<Figure size 1800x1080 with 2 Axes>"
      ]
     },
     "metadata": {
      "needs_background": "light"
     },
     "output_type": "display_data"
    }
   ],
   "source": [
    "#Lets plot heatmap to check correlation among differnt features and label\n",
    "df_corr = df.corr()\n",
    "plt.figure(figsize = (25,15))\n",
    "sns.heatmap(df_corr, vmin=-1, vmax=1, annot=True, square=True, center=0, fmt='.2g', linewidths=0.1)\n",
    "plt.tight_layout()"
   ]
  },
  {
   "cell_type": "markdown",
   "id": "8cf13a41",
   "metadata": {},
   "source": [
    "By seeing this heatmap we can say almost every feature is strongly related to some features.\n",
    "\n",
    "And we can observe all features are having negative coefficient of correlation with average price"
   ]
  },
  {
   "cell_type": "code",
   "execution_count": 23,
   "id": "2f61054e",
   "metadata": {},
   "outputs": [
    {
     "data": {
      "text/html": [
       "<div>\n",
       "<style scoped>\n",
       "    .dataframe tbody tr th:only-of-type {\n",
       "        vertical-align: middle;\n",
       "    }\n",
       "\n",
       "    .dataframe tbody tr th {\n",
       "        vertical-align: top;\n",
       "    }\n",
       "\n",
       "    .dataframe thead th {\n",
       "        text-align: right;\n",
       "    }\n",
       "</style>\n",
       "<table border=\"1\" class=\"dataframe\">\n",
       "  <thead>\n",
       "    <tr style=\"text-align: right;\">\n",
       "      <th></th>\n",
       "      <th>AveragePrice</th>\n",
       "      <th>4046</th>\n",
       "      <th>4225</th>\n",
       "      <th>4770</th>\n",
       "      <th>Small Bags</th>\n",
       "      <th>Large Bags</th>\n",
       "      <th>XLarge Bags</th>\n",
       "    </tr>\n",
       "  </thead>\n",
       "  <tbody>\n",
       "    <tr>\n",
       "      <th>count</th>\n",
       "      <td>18249.000000</td>\n",
       "      <td>1.824900e+04</td>\n",
       "      <td>1.824900e+04</td>\n",
       "      <td>1.824900e+04</td>\n",
       "      <td>1.824900e+04</td>\n",
       "      <td>1.824900e+04</td>\n",
       "      <td>18249.000000</td>\n",
       "    </tr>\n",
       "    <tr>\n",
       "      <th>mean</th>\n",
       "      <td>1.405978</td>\n",
       "      <td>2.930084e+05</td>\n",
       "      <td>2.951546e+05</td>\n",
       "      <td>2.283974e+04</td>\n",
       "      <td>1.821947e+05</td>\n",
       "      <td>5.433809e+04</td>\n",
       "      <td>3106.426507</td>\n",
       "    </tr>\n",
       "    <tr>\n",
       "      <th>std</th>\n",
       "      <td>0.402677</td>\n",
       "      <td>1.264989e+06</td>\n",
       "      <td>1.204120e+06</td>\n",
       "      <td>1.074641e+05</td>\n",
       "      <td>7.461785e+05</td>\n",
       "      <td>2.439660e+05</td>\n",
       "      <td>17692.894652</td>\n",
       "    </tr>\n",
       "    <tr>\n",
       "      <th>min</th>\n",
       "      <td>0.440000</td>\n",
       "      <td>0.000000e+00</td>\n",
       "      <td>0.000000e+00</td>\n",
       "      <td>0.000000e+00</td>\n",
       "      <td>0.000000e+00</td>\n",
       "      <td>0.000000e+00</td>\n",
       "      <td>0.000000</td>\n",
       "    </tr>\n",
       "    <tr>\n",
       "      <th>25%</th>\n",
       "      <td>1.100000</td>\n",
       "      <td>8.540700e+02</td>\n",
       "      <td>3.008780e+03</td>\n",
       "      <td>0.000000e+00</td>\n",
       "      <td>2.849420e+03</td>\n",
       "      <td>1.274700e+02</td>\n",
       "      <td>0.000000</td>\n",
       "    </tr>\n",
       "    <tr>\n",
       "      <th>50%</th>\n",
       "      <td>1.370000</td>\n",
       "      <td>8.645300e+03</td>\n",
       "      <td>2.906102e+04</td>\n",
       "      <td>1.849900e+02</td>\n",
       "      <td>2.636282e+04</td>\n",
       "      <td>2.647710e+03</td>\n",
       "      <td>0.000000</td>\n",
       "    </tr>\n",
       "    <tr>\n",
       "      <th>75%</th>\n",
       "      <td>1.660000</td>\n",
       "      <td>1.110202e+05</td>\n",
       "      <td>1.502069e+05</td>\n",
       "      <td>6.243420e+03</td>\n",
       "      <td>8.333767e+04</td>\n",
       "      <td>2.202925e+04</td>\n",
       "      <td>132.500000</td>\n",
       "    </tr>\n",
       "    <tr>\n",
       "      <th>max</th>\n",
       "      <td>3.250000</td>\n",
       "      <td>2.274362e+07</td>\n",
       "      <td>2.047057e+07</td>\n",
       "      <td>2.546439e+06</td>\n",
       "      <td>1.338459e+07</td>\n",
       "      <td>5.719097e+06</td>\n",
       "      <td>551693.650000</td>\n",
       "    </tr>\n",
       "  </tbody>\n",
       "</table>\n",
       "</div>"
      ],
      "text/plain": [
       "       AveragePrice          4046          4225          4770    Small Bags  \\\n",
       "count  18249.000000  1.824900e+04  1.824900e+04  1.824900e+04  1.824900e+04   \n",
       "mean       1.405978  2.930084e+05  2.951546e+05  2.283974e+04  1.821947e+05   \n",
       "std        0.402677  1.264989e+06  1.204120e+06  1.074641e+05  7.461785e+05   \n",
       "min        0.440000  0.000000e+00  0.000000e+00  0.000000e+00  0.000000e+00   \n",
       "25%        1.100000  8.540700e+02  3.008780e+03  0.000000e+00  2.849420e+03   \n",
       "50%        1.370000  8.645300e+03  2.906102e+04  1.849900e+02  2.636282e+04   \n",
       "75%        1.660000  1.110202e+05  1.502069e+05  6.243420e+03  8.333767e+04   \n",
       "max        3.250000  2.274362e+07  2.047057e+07  2.546439e+06  1.338459e+07   \n",
       "\n",
       "         Large Bags    XLarge Bags  \n",
       "count  1.824900e+04   18249.000000  \n",
       "mean   5.433809e+04    3106.426507  \n",
       "std    2.439660e+05   17692.894652  \n",
       "min    0.000000e+00       0.000000  \n",
       "25%    1.274700e+02       0.000000  \n",
       "50%    2.647710e+03       0.000000  \n",
       "75%    2.202925e+04     132.500000  \n",
       "max    5.719097e+06  551693.650000  "
      ]
     },
     "execution_count": 23,
     "metadata": {},
     "output_type": "execute_result"
    }
   ],
   "source": [
    "#Lets check descrption of our data\n",
    "df.describe()"
   ]
  },
  {
   "cell_type": "markdown",
   "id": "2399c571",
   "metadata": {},
   "source": [
    "This will tell us there are presence of outliers in every columns, as the data is much differing from minimum to mean and maximum."
   ]
  },
  {
   "cell_type": "code",
   "execution_count": 24,
   "id": "d2994007",
   "metadata": {},
   "outputs": [
    {
     "data": {
      "image/png": "[encoded data removed]",
      "text/plain": [
       "<Figure size 1800x1440 with 12 Axes>"
      ]
     },
     "metadata": {
      "needs_background": "light"
     },
     "output_type": "display_data"
    }
   ],
   "source": [
    "#Lets have a look on distribution of continuous parameters\n",
    "plt.figure(figsize = (25,20))\n",
    "plotnumber = 1\n",
    "for column in df:\n",
    "    if plotnumber <=13:\n",
    "        ax = plt.subplot(4,4,plotnumber)\n",
    "        plt.hist(df[column], bins=30)\n",
    "        plt.xlabel(column,fontsize = 20)\n",
    "    plotnumber+=1\n",
    "plt.tight_layout()"
   ]
  },
  {
   "cell_type": "markdown",
   "id": "b83d4369",
   "metadata": {},
   "source": [
    "Average price column is normally distributing over the histogram.\n",
    "\n",
    "Rest of the data are not much varying in term of numbers, so they are showing skewness."
   ]
  },
  {
   "cell_type": "code",
   "execution_count": 25,
   "id": "f23cb1a1",
   "metadata": {},
   "outputs": [
    {
     "data": {
      "text/plain": [
       "AveragePrice     0.580303\n",
       "4046             8.648220\n",
       "4225             8.942466\n",
       "4770            10.159396\n",
       "Small Bags       9.540660\n",
       "Large Bags       9.796455\n",
       "XLarge Bags     13.139751\n",
       "Year             0.215339\n",
       "Month            0.106617\n",
       "Day              0.014310\n",
       "dtype: float64"
      ]
     },
     "execution_count": 25,
     "metadata": {},
     "output_type": "execute_result"
    }
   ],
   "source": [
    "#Lets check the skewness present in our dataset\n",
    "df.skew()"
   ]
  },
  {
   "cell_type": "markdown",
   "id": "ffd6ebd6",
   "metadata": {},
   "source": [
    "Due to presence of outliers in the dataset, its showing larger skewness."
   ]
  },
  {
   "cell_type": "markdown",
   "id": "16977ae8",
   "metadata": {},
   "source": [
    "# Using Z Score to remove outliers"
   ]
  },
  {
   "cell_type": "code",
   "execution_count": 27,
   "id": "a81c6504",
   "metadata": {},
   "outputs": [],
   "source": [
    "from scipy import stats\n",
    "from scipy.stats import zscore\n",
    "z_score = zscore(df[[\"Small Bags\",\"Large Bags\",\"XLarge Bags\"]])\n",
    "abs_z_score = np.abs(z_score)\n",
    "filtering_entry = (abs_z_score < 3).all(axis = 1)\n",
    "df = df[filtering_entry]\n",
    "df.reset_index(inplace = True)"
   ]
  },
  {
   "cell_type": "code",
   "execution_count": 29,
   "id": "1526a94c",
   "metadata": {},
   "outputs": [
    {
     "data": {
      "text/plain": [
       "(17854, 13)"
      ]
     },
     "execution_count": 29,
     "metadata": {},
     "output_type": "execute_result"
    }
   ],
   "source": [
    "#Lets check the shape of our dataset after removal of outliers, to check loss of data\n",
    "df.shape"
   ]
  },
  {
   "cell_type": "markdown",
   "id": "942030f5",
   "metadata": {},
   "source": [
    "By removing outliers from dataset we are loosing 2.5% of data, for better results we will remove outliers."
   ]
  },
  {
   "cell_type": "code",
   "execution_count": 30,
   "id": "0248eeae",
   "metadata": {},
   "outputs": [],
   "source": [
    "#lets drop index column as it in not needed prediction\n",
    "col = [\"index\"]\n",
    "df.drop(columns = col, inplace = True )"
   ]
  },
  {
   "cell_type": "code",
   "execution_count": 32,
   "id": "03d4dcc9",
   "metadata": {},
   "outputs": [
    {
     "data": {
      "text/plain": [
       "AveragePrice    0.562183\n",
       "4046            4.937173\n",
       "4225            4.536524\n",
       "4770            6.539667\n",
       "Small Bags      4.134996\n",
       "Large Bags      4.974965\n",
       "XLarge Bags     5.968937\n",
       "Year            0.223669\n",
       "Month           0.100618\n",
       "Day             0.012540\n",
       "dtype: float64"
      ]
     },
     "execution_count": 32,
     "metadata": {},
     "output_type": "execute_result"
    }
   ],
   "source": [
    "# Again check the skewness after removing outliers\n",
    "df.skew()\n"
   ]
  },
  {
   "cell_type": "markdown",
   "id": "8d3837d6",
   "metadata": {},
   "source": [
    "we can see after removing outliers also there is significant skewness is present.\n",
    "\n",
    "we need to treat this skewness for better results."
   ]
  },
  {
   "cell_type": "code",
   "execution_count": 33,
   "id": "9e0fb789",
   "metadata": {},
   "outputs": [],
   "source": [
    "#lets seperat our data into label and features\n",
    "#Also remove column \"Day\" from features as its not contributng significantly to price \n",
    "x = df.drop(columns = [\"AveragePrice\", \"Day\"], axis = 1)\n",
    "y = df[\"AveragePrice\"]"
   ]
  },
  {
   "cell_type": "code",
   "execution_count": 34,
   "id": "34dc508b",
   "metadata": {},
   "outputs": [],
   "source": [
    "#Lets treat the skewed data\n",
    "for index in x.skew().index:\n",
    "    if x.skew().loc[index]>0.5:\n",
    "        x[index]=np.log1p(x[index])\n",
    "    if x.skew().loc[index]<-0.5:\n",
    "        x[index]=np.square(x[index])"
   ]
  },
  {
   "cell_type": "code",
   "execution_count": 35,
   "id": "85c29ffd",
   "metadata": {},
   "outputs": [
    {
     "data": {
      "text/plain": [
       "4046          -0.405254\n",
       "4225           0.125430\n",
       "4770           0.083407\n",
       "Small Bags     0.076256\n",
       "Large Bags     0.268642\n",
       "XLarge Bags    1.214631\n",
       "Year           0.223669\n",
       "Month          0.100618\n",
       "dtype: float64"
      ]
     },
     "execution_count": 35,
     "metadata": {},
     "output_type": "execute_result"
    }
   ],
   "source": [
    "#lets have a look skewness after treating\n",
    "x.skew()"
   ]
  },
  {
   "cell_type": "markdown",
   "id": "f8878a2e",
   "metadata": {},
   "source": [
    "we removed much of skewed data from our dataset."
   ]
  },
  {
   "cell_type": "code",
   "execution_count": 36,
   "id": "5441fa4c",
   "metadata": {},
   "outputs": [],
   "source": [
    "#Lets bring Numerical features to common scale and convert categorical data to numerics\n",
    "#First create a dataset with only numerical features\n",
    "numeric_data = x.drop(columns = [\"type\",\"region\"])"
   ]
  },
  {
   "cell_type": "code",
   "execution_count": 37,
   "id": "5d772fff",
   "metadata": {},
   "outputs": [],
   "source": [
    "#Applying standard scaler to numerical features\n",
    "scaler = StandardScaler()\n",
    "x_num = scaler.fit_transform(numeric_data)\n",
    "x_num = pd.DataFrame(x_num,columns=numeric_data.columns)"
   ]
  },
  {
   "cell_type": "code",
   "execution_count": 38,
   "id": "d157701c",
   "metadata": {},
   "outputs": [
    {
     "data": {
      "text/html": [
       "<div>\n",
       "<style scoped>\n",
       "    .dataframe tbody tr th:only-of-type {\n",
       "        vertical-align: middle;\n",
       "    }\n",
       "\n",
       "    .dataframe tbody tr th {\n",
       "        vertical-align: top;\n",
       "    }\n",
       "\n",
       "    .dataframe thead th {\n",
       "        text-align: right;\n",
       "    }\n",
       "</style>\n",
       "<table border=\"1\" class=\"dataframe\">\n",
       "  <thead>\n",
       "    <tr style=\"text-align: right;\">\n",
       "      <th></th>\n",
       "      <th>4046</th>\n",
       "      <th>4225</th>\n",
       "      <th>4770</th>\n",
       "      <th>Small Bags</th>\n",
       "      <th>Large Bags</th>\n",
       "      <th>XLarge Bags</th>\n",
       "      <th>Year</th>\n",
       "      <th>Month</th>\n",
       "    </tr>\n",
       "  </thead>\n",
       "  <tbody>\n",
       "    <tr>\n",
       "      <th>0</th>\n",
       "      <td>-0.822158</td>\n",
       "      <td>-0.706616</td>\n",
       "      <td>0.243029</td>\n",
       "      <td>-0.681993</td>\n",
       "      <td>-0.248334</td>\n",
       "      <td>-0.628348</td>\n",
       "      <td>-0.148588</td>\n",
       "      <td>0.794712</td>\n",
       "    </tr>\n",
       "    <tr>\n",
       "      <th>1</th>\n",
       "      <td>0.198531</td>\n",
       "      <td>-0.075063</td>\n",
       "      <td>-0.015278</td>\n",
       "      <td>-0.166653</td>\n",
       "      <td>0.325174</td>\n",
       "      <td>0.501451</td>\n",
       "      <td>0.916402</td>\n",
       "      <td>0.794712</td>\n",
       "    </tr>\n",
       "    <tr>\n",
       "      <th>2</th>\n",
       "      <td>1.049597</td>\n",
       "      <td>0.046023</td>\n",
       "      <td>0.378754</td>\n",
       "      <td>0.436082</td>\n",
       "      <td>1.013758</td>\n",
       "      <td>-0.628348</td>\n",
       "      <td>0.916402</td>\n",
       "      <td>1.077476</td>\n",
       "    </tr>\n",
       "    <tr>\n",
       "      <th>3</th>\n",
       "      <td>0.412851</td>\n",
       "      <td>0.174247</td>\n",
       "      <td>-0.048667</td>\n",
       "      <td>0.490913</td>\n",
       "      <td>1.037436</td>\n",
       "      <td>-0.118626</td>\n",
       "      <td>0.916402</td>\n",
       "      <td>0.511949</td>\n",
       "    </tr>\n",
       "    <tr>\n",
       "      <th>4</th>\n",
       "      <td>-2.114190</td>\n",
       "      <td>-1.415526</td>\n",
       "      <td>-1.210123</td>\n",
       "      <td>-0.749335</td>\n",
       "      <td>-0.065335</td>\n",
       "      <td>-0.628348</td>\n",
       "      <td>0.916402</td>\n",
       "      <td>-1.184633</td>\n",
       "    </tr>\n",
       "    <tr>\n",
       "      <th>...</th>\n",
       "      <td>...</td>\n",
       "      <td>...</td>\n",
       "      <td>...</td>\n",
       "      <td>...</td>\n",
       "      <td>...</td>\n",
       "      <td>...</td>\n",
       "      <td>...</td>\n",
       "      <td>...</td>\n",
       "    </tr>\n",
       "    <tr>\n",
       "      <th>17849</th>\n",
       "      <td>-2.049838</td>\n",
       "      <td>-1.167353</td>\n",
       "      <td>-0.893834</td>\n",
       "      <td>-2.069954</td>\n",
       "      <td>-0.699852</td>\n",
       "      <td>-0.628348</td>\n",
       "      <td>-1.213577</td>\n",
       "      <td>1.360239</td>\n",
       "    </tr>\n",
       "    <tr>\n",
       "      <th>17850</th>\n",
       "      <td>-0.077998</td>\n",
       "      <td>-0.060526</td>\n",
       "      <td>0.744683</td>\n",
       "      <td>-0.119833</td>\n",
       "      <td>-0.643619</td>\n",
       "      <td>-0.628348</td>\n",
       "      <td>-0.148588</td>\n",
       "      <td>-0.336342</td>\n",
       "    </tr>\n",
       "    <tr>\n",
       "      <th>17851</th>\n",
       "      <td>-0.340470</td>\n",
       "      <td>-0.813784</td>\n",
       "      <td>-1.210123</td>\n",
       "      <td>-0.908728</td>\n",
       "      <td>-1.366624</td>\n",
       "      <td>-0.628348</td>\n",
       "      <td>0.916402</td>\n",
       "      <td>1.360239</td>\n",
       "    </tr>\n",
       "    <tr>\n",
       "      <th>17852</th>\n",
       "      <td>-0.639931</td>\n",
       "      <td>-0.797008</td>\n",
       "      <td>-1.210123</td>\n",
       "      <td>-0.646601</td>\n",
       "      <td>-1.171160</td>\n",
       "      <td>-0.628348</td>\n",
       "      <td>-0.148588</td>\n",
       "      <td>1.360239</td>\n",
       "    </tr>\n",
       "    <tr>\n",
       "      <th>17853</th>\n",
       "      <td>0.132389</td>\n",
       "      <td>1.268861</td>\n",
       "      <td>0.597029</td>\n",
       "      <td>0.772534</td>\n",
       "      <td>0.724575</td>\n",
       "      <td>1.601800</td>\n",
       "      <td>0.916402</td>\n",
       "      <td>0.794712</td>\n",
       "    </tr>\n",
       "  </tbody>\n",
       "</table>\n",
       "<p>17854 rows × 8 columns</p>\n",
       "</div>"
      ],
      "text/plain": [
       "           4046      4225      4770  Small Bags  Large Bags  XLarge Bags  \\\n",
       "0     -0.822158 -0.706616  0.243029   -0.681993   -0.248334    -0.628348   \n",
       "1      0.198531 -0.075063 -0.015278   -0.166653    0.325174     0.501451   \n",
       "2      1.049597  0.046023  0.378754    0.436082    1.013758    -0.628348   \n",
       "3      0.412851  0.174247 -0.048667    0.490913    1.037436    -0.118626   \n",
       "4     -2.114190 -1.415526 -1.210123   -0.749335   -0.065335    -0.628348   \n",
       "...         ...       ...       ...         ...         ...          ...   \n",
       "17849 -2.049838 -1.167353 -0.893834   -2.069954   -0.699852    -0.628348   \n",
       "17850 -0.077998 -0.060526  0.744683   -0.119833   -0.643619    -0.628348   \n",
       "17851 -0.340470 -0.813784 -1.210123   -0.908728   -1.366624    -0.628348   \n",
       "17852 -0.639931 -0.797008 -1.210123   -0.646601   -1.171160    -0.628348   \n",
       "17853  0.132389  1.268861  0.597029    0.772534    0.724575     1.601800   \n",
       "\n",
       "           Year     Month  \n",
       "0     -0.148588  0.794712  \n",
       "1      0.916402  0.794712  \n",
       "2      0.916402  1.077476  \n",
       "3      0.916402  0.511949  \n",
       "4      0.916402 -1.184633  \n",
       "...         ...       ...  \n",
       "17849 -1.213577  1.360239  \n",
       "17850 -0.148588 -0.336342  \n",
       "17851  0.916402  1.360239  \n",
       "17852 -0.148588  1.360239  \n",
       "17853  0.916402  0.794712  \n",
       "\n",
       "[17854 rows x 8 columns]"
      ]
     },
     "execution_count": 38,
     "metadata": {},
     "output_type": "execute_result"
    }
   ],
   "source": [
    "#lets see how our numerical data looks after scaling\n",
    "x_num"
   ]
  },
  {
   "cell_type": "code",
   "execution_count": 39,
   "id": "7d5abc7d",
   "metadata": {},
   "outputs": [],
   "source": [
    "#create a dataset with categorical features\n",
    "cat_data = pd.DataFrame(x, columns = [\"type\",\"region\"])"
   ]
  },
  {
   "cell_type": "code",
   "execution_count": 40,
   "id": "3613fe15",
   "metadata": {},
   "outputs": [],
   "source": [
    "#lets convert categorical data into numeric values, using label encoder\n",
    "from sklearn.preprocessing import LabelEncoder\n",
    "\n",
    "leb_enc = LabelEncoder()\n",
    "for i in cat_data.columns:\n",
    "    cat_data[i] = leb_enc.fit_transform(cat_data[i])"
   ]
  },
  {
   "cell_type": "code",
   "execution_count": 41,
   "id": "e34da218",
   "metadata": {},
   "outputs": [
    {
     "data": {
      "text/html": [
       "<div>\n",
       "<style scoped>\n",
       "    .dataframe tbody tr th:only-of-type {\n",
       "        vertical-align: middle;\n",
       "    }\n",
       "\n",
       "    .dataframe tbody tr th {\n",
       "        vertical-align: top;\n",
       "    }\n",
       "\n",
       "    .dataframe thead th {\n",
       "        text-align: right;\n",
       "    }\n",
       "</style>\n",
       "<table border=\"1\" class=\"dataframe\">\n",
       "  <thead>\n",
       "    <tr style=\"text-align: right;\">\n",
       "      <th></th>\n",
       "      <th>4046</th>\n",
       "      <th>4225</th>\n",
       "      <th>4770</th>\n",
       "      <th>Small Bags</th>\n",
       "      <th>Large Bags</th>\n",
       "      <th>XLarge Bags</th>\n",
       "      <th>Year</th>\n",
       "      <th>Month</th>\n",
       "      <th>type</th>\n",
       "      <th>region</th>\n",
       "    </tr>\n",
       "  </thead>\n",
       "  <tbody>\n",
       "    <tr>\n",
       "      <th>0</th>\n",
       "      <td>-0.822158</td>\n",
       "      <td>-0.706616</td>\n",
       "      <td>0.243029</td>\n",
       "      <td>-0.681993</td>\n",
       "      <td>-0.248334</td>\n",
       "      <td>-0.628348</td>\n",
       "      <td>-0.148588</td>\n",
       "      <td>0.794712</td>\n",
       "      <td>1</td>\n",
       "      <td>44</td>\n",
       "    </tr>\n",
       "    <tr>\n",
       "      <th>1</th>\n",
       "      <td>0.198531</td>\n",
       "      <td>-0.075063</td>\n",
       "      <td>-0.015278</td>\n",
       "      <td>-0.166653</td>\n",
       "      <td>0.325174</td>\n",
       "      <td>0.501451</td>\n",
       "      <td>0.916402</td>\n",
       "      <td>0.794712</td>\n",
       "      <td>0</td>\n",
       "      <td>47</td>\n",
       "    </tr>\n",
       "    <tr>\n",
       "      <th>2</th>\n",
       "      <td>1.049597</td>\n",
       "      <td>0.046023</td>\n",
       "      <td>0.378754</td>\n",
       "      <td>0.436082</td>\n",
       "      <td>1.013758</td>\n",
       "      <td>-0.628348</td>\n",
       "      <td>0.916402</td>\n",
       "      <td>1.077476</td>\n",
       "      <td>0</td>\n",
       "      <td>31</td>\n",
       "    </tr>\n",
       "    <tr>\n",
       "      <th>3</th>\n",
       "      <td>0.412851</td>\n",
       "      <td>0.174247</td>\n",
       "      <td>-0.048667</td>\n",
       "      <td>0.490913</td>\n",
       "      <td>1.037436</td>\n",
       "      <td>-0.118626</td>\n",
       "      <td>0.916402</td>\n",
       "      <td>0.511949</td>\n",
       "      <td>1</td>\n",
       "      <td>52</td>\n",
       "    </tr>\n",
       "    <tr>\n",
       "      <th>4</th>\n",
       "      <td>-2.114190</td>\n",
       "      <td>-1.415526</td>\n",
       "      <td>-1.210123</td>\n",
       "      <td>-0.749335</td>\n",
       "      <td>-0.065335</td>\n",
       "      <td>-0.628348</td>\n",
       "      <td>0.916402</td>\n",
       "      <td>-1.184633</td>\n",
       "      <td>1</td>\n",
       "      <td>5</td>\n",
       "    </tr>\n",
       "    <tr>\n",
       "      <th>...</th>\n",
       "      <td>...</td>\n",
       "      <td>...</td>\n",
       "      <td>...</td>\n",
       "      <td>...</td>\n",
       "      <td>...</td>\n",
       "      <td>...</td>\n",
       "      <td>...</td>\n",
       "      <td>...</td>\n",
       "      <td>...</td>\n",
       "      <td>...</td>\n",
       "    </tr>\n",
       "    <tr>\n",
       "      <th>17849</th>\n",
       "      <td>-2.049838</td>\n",
       "      <td>-1.167353</td>\n",
       "      <td>-0.893834</td>\n",
       "      <td>-2.069954</td>\n",
       "      <td>-0.699852</td>\n",
       "      <td>-0.628348</td>\n",
       "      <td>-1.213577</td>\n",
       "      <td>1.360239</td>\n",
       "      <td>1</td>\n",
       "      <td>3</td>\n",
       "    </tr>\n",
       "    <tr>\n",
       "      <th>17850</th>\n",
       "      <td>-0.077998</td>\n",
       "      <td>-0.060526</td>\n",
       "      <td>0.744683</td>\n",
       "      <td>-0.119833</td>\n",
       "      <td>-0.643619</td>\n",
       "      <td>-0.628348</td>\n",
       "      <td>-0.148588</td>\n",
       "      <td>-0.336342</td>\n",
       "      <td>1</td>\n",
       "      <td>28</td>\n",
       "    </tr>\n",
       "    <tr>\n",
       "      <th>17851</th>\n",
       "      <td>-0.340470</td>\n",
       "      <td>-0.813784</td>\n",
       "      <td>-1.210123</td>\n",
       "      <td>-0.908728</td>\n",
       "      <td>-1.366624</td>\n",
       "      <td>-0.628348</td>\n",
       "      <td>0.916402</td>\n",
       "      <td>1.360239</td>\n",
       "      <td>1</td>\n",
       "      <td>40</td>\n",
       "    </tr>\n",
       "    <tr>\n",
       "      <th>17852</th>\n",
       "      <td>-0.639931</td>\n",
       "      <td>-0.797008</td>\n",
       "      <td>-1.210123</td>\n",
       "      <td>-0.646601</td>\n",
       "      <td>-1.171160</td>\n",
       "      <td>-0.628348</td>\n",
       "      <td>-0.148588</td>\n",
       "      <td>1.360239</td>\n",
       "      <td>1</td>\n",
       "      <td>32</td>\n",
       "    </tr>\n",
       "    <tr>\n",
       "      <th>17853</th>\n",
       "      <td>0.132389</td>\n",
       "      <td>1.268861</td>\n",
       "      <td>0.597029</td>\n",
       "      <td>0.772534</td>\n",
       "      <td>0.724575</td>\n",
       "      <td>1.601800</td>\n",
       "      <td>0.916402</td>\n",
       "      <td>0.794712</td>\n",
       "      <td>0</td>\n",
       "      <td>4</td>\n",
       "    </tr>\n",
       "  </tbody>\n",
       "</table>\n",
       "<p>17854 rows × 10 columns</p>\n",
       "</div>"
      ],
      "text/plain": [
       "           4046      4225      4770  Small Bags  Large Bags  XLarge Bags  \\\n",
       "0     -0.822158 -0.706616  0.243029   -0.681993   -0.248334    -0.628348   \n",
       "1      0.198531 -0.075063 -0.015278   -0.166653    0.325174     0.501451   \n",
       "2      1.049597  0.046023  0.378754    0.436082    1.013758    -0.628348   \n",
       "3      0.412851  0.174247 -0.048667    0.490913    1.037436    -0.118626   \n",
       "4     -2.114190 -1.415526 -1.210123   -0.749335   -0.065335    -0.628348   \n",
       "...         ...       ...       ...         ...         ...          ...   \n",
       "17849 -2.049838 -1.167353 -0.893834   -2.069954   -0.699852    -0.628348   \n",
       "17850 -0.077998 -0.060526  0.744683   -0.119833   -0.643619    -0.628348   \n",
       "17851 -0.340470 -0.813784 -1.210123   -0.908728   -1.366624    -0.628348   \n",
       "17852 -0.639931 -0.797008 -1.210123   -0.646601   -1.171160    -0.628348   \n",
       "17853  0.132389  1.268861  0.597029    0.772534    0.724575     1.601800   \n",
       "\n",
       "           Year     Month  type  region  \n",
       "0     -0.148588  0.794712     1      44  \n",
       "1      0.916402  0.794712     0      47  \n",
       "2      0.916402  1.077476     0      31  \n",
       "3      0.916402  0.511949     1      52  \n",
       "4      0.916402 -1.184633     1       5  \n",
       "...         ...       ...   ...     ...  \n",
       "17849 -1.213577  1.360239     1       3  \n",
       "17850 -0.148588 -0.336342     1      28  \n",
       "17851  0.916402  1.360239     1      40  \n",
       "17852 -0.148588  1.360239     1      32  \n",
       "17853  0.916402  0.794712     0       4  \n",
       "\n",
       "[17854 rows x 10 columns]"
      ]
     },
     "execution_count": 41,
     "metadata": {},
     "output_type": "execute_result"
    }
   ],
   "source": [
    "#Now  join both categorical and numerical features detasets\n",
    "X = x_num.join(cat_data)\n",
    "X"
   ]
  },
  {
   "cell_type": "markdown",
   "id": "b96ebf0b",
   "metadata": {},
   "source": [
    "# Finding best Randomstate"
   ]
  },
  {
   "cell_type": "code",
   "execution_count": 42,
   "id": "20da5f46",
   "metadata": {},
   "outputs": [
    {
     "name": "stdout",
     "output_type": "stream",
     "text": [
      "max r2 score is 0.8607725679076017 on Random State 1\n"
     ]
    }
   ],
   "source": [
    "#Lets find best random state using KNeighborsRegressor\n",
    "from sklearn.neighbors import KNeighborsRegressor\n",
    "max_r_score=0\n",
    "r_state = 0\n",
    "for i in range(1,100):\n",
    "    x_train, x_test, y_train, y_test = train_test_split(X, y, test_size = 0.30,random_state = r_state)\n",
    "    kn = KNeighborsRegressor()\n",
    "    kn.fit(x_train,y_train)\n",
    "    y_pred = kn.predict(x_test)\n",
    "    r2_scr = r2_score(y_test,y_pred)\n",
    "    if r2_scr > max_r_score:\n",
    "        max_r_score = r2_scr\n",
    "        r_state = i\n",
    "print(\"max r2 score is\",max_r_score,\"on Random State\",r_state)"
   ]
  },
  {
   "cell_type": "code",
   "execution_count": 43,
   "id": "e8abbad5",
   "metadata": {},
   "outputs": [],
   "source": [
    "#lets split our train data into train and test part\n",
    "x_train, x_test, y_train, y_test = train_test_split(X, y,test_size = 0.30,random_state = r_state)"
   ]
  },
  {
   "cell_type": "markdown",
   "id": "9724bc1f",
   "metadata": {},
   "source": [
    "# Applying various Regression"
   ]
  },
  {
   "cell_type": "code",
   "execution_count": 44,
   "id": "fe7cf3cb",
   "metadata": {},
   "outputs": [
    {
     "name": "stdout",
     "output_type": "stream",
     "text": [
      "MAE : 0.2213448285708768\n",
      "RMSE : 0.2855366063794673\n",
      "Training r2 Score : 50.91060295354857 %\n",
      "Testing r2 Score: 50.3184000617787%\n"
     ]
    }
   ],
   "source": [
    "#Model with LinearRegression\n",
    "from sklearn.linear_model import LinearRegression\n",
    "lr = LinearRegression()\n",
    "lr.fit(x_train, y_train)\n",
    "y_pred = lr.predict(x_train)\n",
    "pred_lr = lr.predict(x_test)\n",
    "\n",
    "#evaluation\n",
    "mse = mean_squared_error(y_test,pred_lr)\n",
    "rmse = np.sqrt(mse)\n",
    "mae = mean_absolute_error(y_test,pred_lr)\n",
    "print(\"MAE :\", mae)\n",
    "print(\"RMSE :\", rmse)\n",
    "\n",
    "# r2 score\n",
    "print(\"Training r2 Score :\", r2_score(y_train,y_pred)*100,'%')\n",
    "print(f\"Testing r2 Score: {r2_score(y_test,pred_lr)*100}%\")"
   ]
  },
  {
   "cell_type": "code",
   "execution_count": 45,
   "id": "14c6a152",
   "metadata": {},
   "outputs": [
    {
     "name": "stdout",
     "output_type": "stream",
     "text": [
      "MAE : 0.13312488333022213\n",
      "RMSE : 0.20683391599824288\n",
      "Training r2 Score : 100.0 %\n",
      "Testing r2 Score: 73.93153283460707%\n"
     ]
    }
   ],
   "source": [
    "#Model with DecesionTreeRegressor\n",
    "from sklearn.tree import DecisionTreeRegressor\n",
    "dt = DecisionTreeRegressor()\n",
    "dt.fit(x_train, y_train)\n",
    "y_pred = dt.predict(x_train)\n",
    "pred_dt = dt.predict(x_test)\n",
    "\n",
    "#evaluation\n",
    "mse = mean_squared_error(y_test,pred_dt)\n",
    "rmse = np.sqrt(mse)\n",
    "mae = mean_absolute_error(y_test,pred_dt)\n",
    "print(\"MAE :\", mae)\n",
    "print(\"RMSE :\", rmse)\n",
    "\n",
    "# r2 score\n",
    "print(\"Training r2 Score :\", r2_score(y_train,y_pred)*100,'%')\n",
    "print(f\"Testing r2 Score: {r2_score(y_test,pred_dt)*100}%\")"
   ]
  },
  {
   "cell_type": "code",
   "execution_count": 46,
   "id": "c75d913d",
   "metadata": {},
   "outputs": [
    {
     "name": "stdout",
     "output_type": "stream",
     "text": [
      "MAE : 0.09887619936531639\n",
      "RMSE : 0.14257414981294889\n",
      "Training r2 Score : 98.37540019433084 %\n",
      "Testing r2 Score: 87.61335852972081%\n"
     ]
    }
   ],
   "source": [
    "#Model with RandomForestRegressor\n",
    "from sklearn.ensemble import RandomForestRegressor\n",
    "\n",
    "rf = RandomForestRegressor()\n",
    "rf.fit(x_train, y_train)\n",
    "y_pred = rf.predict(x_train)\n",
    "pred_rf = rf.predict(x_test)\n",
    "\n",
    "# evaluation\n",
    "mse = mean_squared_error(y_test,pred_rf)\n",
    "rmse = np.sqrt(mse)\n",
    "mae = mean_absolute_error(y_test,pred_rf)\n",
    "print(\"MAE :\", mae)\n",
    "print(\"RMSE :\", rmse)\n",
    "\n",
    "\n",
    "# r2 score\n",
    "print(\"Training r2 Score :\", r2_score(y_train,y_pred)*100,'%')\n",
    "print(f\"Testing r2 Score: {r2_score(y_test,pred_rf)*100}%\")"
   ]
  },
  {
   "cell_type": "code",
   "execution_count": 47,
   "id": "d592ec8e",
   "metadata": {},
   "outputs": [
    {
     "name": "stdout",
     "output_type": "stream",
     "text": [
      "MAE : 0.10612245659884265\n",
      "RMSE : 0.15305754687808604\n",
      "Training r2 Score : 92.24383259189258 %\n",
      "Testing r2 Score: 85.72482361948634%\n"
     ]
    }
   ],
   "source": [
    "#Model with KNeighborsRegressor\n",
    "from sklearn.neighbors import KNeighborsRegressor\n",
    "knr =  KNeighborsRegressor()\n",
    "knr.fit(x_train, y_train)\n",
    "y_pred = knr.predict(x_train)\n",
    "pred_knr = knr.predict(x_test)\n",
    "\n",
    "# evaluation\n",
    "mse = mean_squared_error(y_test,pred_knr)\n",
    "rmse = np.sqrt(mse)\n",
    "mae = mean_absolute_error(y_test,pred_knr)\n",
    "print(\"MAE :\", mae)\n",
    "print(\"RMSE :\", rmse)\n",
    "\n",
    "# r2 score\n",
    "print(\"Training r2 Score :\", r2_score(y_train,y_pred)*100,'%')\n",
    "print(f\"Testing r2 Score: {r2_score(y_test,pred_knr)*100}%\")"
   ]
  },
  {
   "cell_type": "code",
   "execution_count": 48,
   "id": "1eb7d270",
   "metadata": {},
   "outputs": [
    {
     "name": "stdout",
     "output_type": "stream",
     "text": [
      "MAE : 0.10612245659884265\n",
      "RMSE : 0.15305754687808604\n",
      "Training r2 Score : 92.24383259189258 %\n",
      "Testing r2 Score: 85.72482361948634%\n"
     ]
    }
   ],
   "source": [
    "#Lets use SVM regressor\n",
    "from sklearn.svm import SVR\n",
    "svr =  KNeighborsRegressor()\n",
    "svr.fit(x_train, y_train)\n",
    "y_pred = svr.predict(x_train)\n",
    "pred_svr = svr.predict(x_test)\n",
    "\n",
    "# evaluation\n",
    "mse = mean_squared_error(y_test,pred_svr)\n",
    "rmse = np.sqrt(mse)\n",
    "mae = mean_absolute_error(y_test,pred_svr)\n",
    "print(\"MAE :\", mae)\n",
    "print(\"RMSE :\", rmse)\n",
    "\n",
    "# r2 score\n",
    "print(\"Training r2 Score :\", r2_score(y_train,y_pred)*100,'%')\n",
    "print(f\"Testing r2 Score: {r2_score(y_test,pred_svr)*100}%\")"
   ]
  },
  {
   "cell_type": "markdown",
   "id": "061052c7",
   "metadata": {},
   "source": [
    "Looking at the r2 scores of every algorithms, we can say the RandomForestRegressor is giving maximum r2 score and minimum rmse.\n",
    "\n"
   ]
  },
  {
   "cell_type": "markdown",
   "id": "370603cf",
   "metadata": {},
   "source": [
    "# Cross Validation"
   ]
  },
  {
   "cell_type": "code",
   "execution_count": 49,
   "id": "2df68d02",
   "metadata": {},
   "outputs": [
    {
     "name": "stdout",
     "output_type": "stream",
     "text": [
      "Cross validation score of LinearRegression model is : 0.5067546023183662\n"
     ]
    }
   ],
   "source": [
    "from sklearn.model_selection import KFold, cross_val_score\n",
    "k_f =KFold(n_splits = 3, shuffle = True)\n",
    "k_f\n",
    "#for  LinearRegression model\n",
    "lr = LinearRegression()\n",
    "c_scores = cross_val_score(lr,X,y,cv=5, scoring = 'r2')\n",
    "print(\"Cross validation score of LinearRegression model is :\", c_scores.mean())"
   ]
  },
  {
   "cell_type": "code",
   "execution_count": 50,
   "id": "d30fd618",
   "metadata": {},
   "outputs": [
    {
     "name": "stdout",
     "output_type": "stream",
     "text": [
      "Cross validation score of DecisionTreeRegressor model is : 0.7553130843243483\n"
     ]
    }
   ],
   "source": [
    "#for  DecisionTreeRegressor model\n",
    "dt = DecisionTreeRegressor()\n",
    "c_scores = cross_val_score(dt,X,y,cv=5, scoring = 'r2')\n",
    "print(\"Cross validation score of DecisionTreeRegressor model is :\", c_scores.mean())"
   ]
  },
  {
   "cell_type": "code",
   "execution_count": 51,
   "id": "8e4c8648",
   "metadata": {},
   "outputs": [
    {
     "name": "stdout",
     "output_type": "stream",
     "text": [
      "Cross validation score of RandomForestRegressor model is : 0.89008605050042\n"
     ]
    }
   ],
   "source": [
    "#for RandomForestRegressor model\n",
    "c_scores = cross_val_score(rf,X,y,cv=5, scoring = 'r2')\n",
    "print(\"Cross validation score of RandomForestRegressor model is :\", c_scores.mean())"
   ]
  },
  {
   "cell_type": "code",
   "execution_count": 52,
   "id": "bcb89e60",
   "metadata": {},
   "outputs": [
    {
     "name": "stdout",
     "output_type": "stream",
     "text": [
      "Cross validation score of KNeighborsRegressor model is : 0.8751175823552355\n"
     ]
    }
   ],
   "source": [
    "#for KNeighborsRegressor model\n",
    "c_scores = cross_val_score(knr,X,y,cv=5, scoring = 'r2')\n",
    "print(\"Cross validation score of KNeighborsRegressor model is :\", c_scores.mean())"
   ]
  },
  {
   "cell_type": "code",
   "execution_count": 53,
   "id": "9133da55",
   "metadata": {},
   "outputs": [
    {
     "name": "stdout",
     "output_type": "stream",
     "text": [
      "Cross validation score of SVM Regressor model is : 0.8751175823552355\n"
     ]
    }
   ],
   "source": [
    "#for SVM Regressor model\n",
    "c_scores = cross_val_score(svr,X,y,cv=5, scoring = 'r2')\n",
    "print(\"Cross validation score of SVM Regressor model is :\", c_scores.mean())"
   ]
  },
  {
   "cell_type": "markdown",
   "id": "41182c77",
   "metadata": {},
   "source": [
    "We can see the minimum difference in r2 score and cv score for randomforestregresor, SVM and KNeighborsRegressor is same of 0.73%.\n",
    "\n",
    "By taking into consideration time required for hyperparameter tuning for RandomForestRegressor is very much high. so I am prefering KNeighborsRegressor for further process"
   ]
  },
  {
   "cell_type": "markdown",
   "id": "b2033ac2",
   "metadata": {},
   "source": [
    "# Hyperparameter Tuning- Grid search"
   ]
  },
  {
   "cell_type": "code",
   "execution_count": 54,
   "id": "97f9a7cf",
   "metadata": {},
   "outputs": [],
   "source": [
    "grid_params = {\n",
    "                'algorithm' : ['auto', 'kd_tree','ball_tree','brute'],\n",
    "                'weights': ['uniform','distance'],\n",
    "                'leaf_size':[15,18,20],\n",
    "                'n_neighbors': [3,5,7,13]\n",
    "                }"
   ]
  },
  {
   "cell_type": "code",
   "execution_count": 55,
   "id": "08b06cac",
   "metadata": {},
   "outputs": [
    {
     "data": {
      "text/plain": [
       "GridSearchCV(cv=5, estimator=KNeighborsRegressor(),\n",
       "             param_grid={'algorithm': ['auto', 'kd_tree', 'ball_tree', 'brute'],\n",
       "                         'leaf_size': [15, 18, 20],\n",
       "                         'n_neighbors': [3, 5, 7, 13],\n",
       "                         'weights': ['uniform', 'distance']})"
      ]
     },
     "execution_count": 55,
     "metadata": {},
     "output_type": "execute_result"
    }
   ],
   "source": [
    "GCV =  GridSearchCV(KNeighborsRegressor(), grid_params, cv = 5)\n",
    "GCV.fit(x_train,y_train)"
   ]
  },
  {
   "cell_type": "code",
   "execution_count": 56,
   "id": "f2951b94",
   "metadata": {},
   "outputs": [
    {
     "data": {
      "text/plain": [
       "{'algorithm': 'auto', 'leaf_size': 15, 'n_neighbors': 3, 'weights': 'distance'}"
      ]
     },
     "execution_count": 56,
     "metadata": {},
     "output_type": "execute_result"
    }
   ],
   "source": [
    "#printing the best parameters found by GridSearchCV\n",
    "GCV.best_params_    "
   ]
  },
  {
   "cell_type": "code",
   "execution_count": 57,
   "id": "026a5170",
   "metadata": {},
   "outputs": [
    {
     "name": "stdout",
     "output_type": "stream",
     "text": [
      "MAE : 0.0944253489559049\n",
      "RMSE : 0.13903043462852768\n",
      "---------------------------------------------------\n",
      "Training r2 Score : 100.0 %\n",
      "Testing r2 Score: 88.22145224696911%\n"
     ]
    }
   ],
   "source": [
    "#Let's train and test our model using best parameters\n",
    "model = KNeighborsRegressor(algorithm = 'auto', leaf_size = 15, n_neighbors = 3, weights = 'distance' )\n",
    "\n",
    "model.fit(x_train,y_train)\n",
    "pred = model.predict(x_test)\n",
    "y_pred = model.predict(x_train)\n",
    "# evaluation\n",
    "mse = mean_squared_error(y_test, pred)\n",
    "rmse = np.sqrt(mse)\n",
    "mae = mean_absolute_error(y_test,pred)\n",
    "\n",
    "print(\"MAE :\", mae)\n",
    "print(\"RMSE :\", rmse)\n",
    "print(\"---------------------------------------------------\")\n",
    "\n",
    "#r2 scores\n",
    "print(\"Training r2 Score :\", r2_score(y_train,y_pred)*100,'%')\n",
    "print(f\"Testing r2 Score: {r2_score(y_test,pred)*100}%\")"
   ]
  },
  {
   "cell_type": "markdown",
   "id": "8500a6b6",
   "metadata": {},
   "source": [
    "This is the final model for average price prediction of avocados"
   ]
  },
  {
   "cell_type": "markdown",
   "id": "34d7c1bb",
   "metadata": {},
   "source": [
    "**Final Actual Vs Predicted sample.**"
   ]
  },
  {
   "cell_type": "code",
   "execution_count": 58,
   "id": "59416bd3",
   "metadata": {},
   "outputs": [
    {
     "data": {
      "text/html": [
       "<div>\n",
       "<style scoped>\n",
       "    .dataframe tbody tr th:only-of-type {\n",
       "        vertical-align: middle;\n",
       "    }\n",
       "\n",
       "    .dataframe tbody tr th {\n",
       "        vertical-align: top;\n",
       "    }\n",
       "\n",
       "    .dataframe thead th {\n",
       "        text-align: right;\n",
       "    }\n",
       "</style>\n",
       "<table border=\"1\" class=\"dataframe\">\n",
       "  <thead>\n",
       "    <tr style=\"text-align: right;\">\n",
       "      <th></th>\n",
       "      <th>Y Test</th>\n",
       "      <th>Pred</th>\n",
       "    </tr>\n",
       "  </thead>\n",
       "  <tbody>\n",
       "    <tr>\n",
       "      <th>5910</th>\n",
       "      <td>1.31</td>\n",
       "      <td>1.520599</td>\n",
       "    </tr>\n",
       "    <tr>\n",
       "      <th>13843</th>\n",
       "      <td>1.91</td>\n",
       "      <td>1.856128</td>\n",
       "    </tr>\n",
       "    <tr>\n",
       "      <th>10140</th>\n",
       "      <td>1.68</td>\n",
       "      <td>1.680482</td>\n",
       "    </tr>\n",
       "    <tr>\n",
       "      <th>4952</th>\n",
       "      <td>2.49</td>\n",
       "      <td>2.117438</td>\n",
       "    </tr>\n",
       "    <tr>\n",
       "      <th>14587</th>\n",
       "      <td>1.48</td>\n",
       "      <td>1.475551</td>\n",
       "    </tr>\n",
       "  </tbody>\n",
       "</table>\n",
       "</div>"
      ],
      "text/plain": [
       "       Y Test      Pred\n",
       "5910     1.31  1.520599\n",
       "13843    1.91  1.856128\n",
       "10140    1.68  1.680482\n",
       "4952     2.49  2.117438\n",
       "14587    1.48  1.475551"
      ]
     },
     "execution_count": 58,
     "metadata": {},
     "output_type": "execute_result"
    },
    {
     "data": {
      "image/png": "[encoded data removed]",
      "text/plain": [
       "<Figure size 360x360 with 1 Axes>"
      ]
     },
     "metadata": {
      "needs_background": "light"
     },
     "output_type": "display_data"
    }
   ],
   "source": [
    "data = pd.DataFrame({'Y Test':y_test , 'Pred':pred},columns=['Y Test','Pred'])\n",
    "sns.lmplot(x='Y Test',y='Pred',data=data,palette='rainbow')\n",
    "data.head()"
   ]
  },
  {
   "cell_type": "markdown",
   "id": "ba698098",
   "metadata": {},
   "source": [
    "# Saving the model"
   ]
  },
  {
   "cell_type": "code",
   "execution_count": 59,
   "id": "a0090218",
   "metadata": {},
   "outputs": [
    {
     "data": {
      "text/plain": [
       "['Avocado_price_prediction.pkl']"
      ]
     },
     "execution_count": 59,
     "metadata": {},
     "output_type": "execute_result"
    }
   ],
   "source": [
    "import joblib\n",
    "joblib.dump(model,\"Avocado_price_prediction.pkl\")"
   ]
  },
  {
   "cell_type": "code",
   "execution_count": null,
   "id": "dbb05ba5",
   "metadata": {},
   "outputs": [],
   "source": []
  }
 ],
 "metadata": {
  "kernelspec": {
   "display_name": "Python 3",
   "language": "python",
   "name": "python3"
  },
  "language_info": {
   "codemirror_mode": {
    "name": "ipython",
    "version": 3
   },
   "file_extension": ".py",
   "mimetype": "text/x-python",
   "name": "python",
   "nbconvert_exporter": "python",
   "pygments_lexer": "ipython3",
   "version": "3.8.8"
  }
 },
 "nbformat": 4,
 "nbformat_minor": 5
}
